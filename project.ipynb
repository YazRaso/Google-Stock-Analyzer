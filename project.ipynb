{
 "cells": [
  {
   "cell_type": "code",
   "id": "11ea8927-e3f3-46f1-9736-e13e629bb2e9",
   "metadata": {
    "ExecuteTime": {
     "end_time": "2024-12-24T06:56:20.668335Z",
     "start_time": "2024-12-24T06:56:20.664330Z"
    }
   },
   "source": [
    "# Import modules\n",
    "import pandas as pd\n",
    "import numpy as np\n",
    "import math\n",
    "import seaborn as sns\n",
    "import matplotlib.pyplot as plt\n"
   ],
   "outputs": [],
   "execution_count": 4
  },
  {
   "cell_type": "code",
   "id": "830f6570-7a11-456e-b2df-f394fd56e4ba",
   "metadata": {
    "ExecuteTime": {
     "end_time": "2024-12-24T06:56:59.830269Z",
     "start_time": "2024-12-24T06:56:59.819952Z"
    }
   },
   "source": [
    "# Use Kaggle dataset\n",
    "stock_data = pd.read_csv(\"./GOOG.csv\")"
   ],
   "outputs": [],
   "execution_count": 8
  },
  {
   "metadata": {
    "ExecuteTime": {
     "end_time": "2024-12-24T07:22:52.090106Z",
     "start_time": "2024-12-24T07:22:52.084872Z"
    }
   },
   "cell_type": "code",
   "source": [
    "# Initialize dataframe\n",
    "df = pd.DataFrame(stock_data)\n",
    "# Drop first row to ensure minimal confusion when period setting\n",
    "df = df.iloc[1:]\n",
    "df[\"Adj Close\"] = df[\"Adj Close\"].astype(float)\n",
    "df[\"Volume\"] = df[\"Volume\"].astype(float)\n",
    "df[\"Open\"] = df[\"Open\"].astype(float)\n",
    "df[\"High\"] = df[\"High\"].astype(float)\n",
    "df[\"Low\"] = df[\"Low\"].astype(float)\n",
    "df[\"Close\"] = df[\"Close\"].astype(float)"
   ],
   "id": "2d1655e0-0f1a-4fc4-b62b-add4418a75cb",
   "outputs": [],
   "execution_count": 43
  },
  {
   "cell_type": "code",
   "id": "96038d2d-5114-42bf-a197-8864baffe914",
   "metadata": {
    "ExecuteTime": {
     "end_time": "2024-12-24T06:57:02.107478Z",
     "start_time": "2024-12-24T06:57:02.098720Z"
    }
   },
   "source": [
    "df = df.dropna()\n",
    "df = df.drop_duplicates()"
   ],
   "outputs": [],
   "execution_count": 10
  },
  {
   "metadata": {
    "ExecuteTime": {
     "end_time": "2024-12-24T06:57:03.287627Z",
     "start_time": "2024-12-24T06:57:03.285934Z"
    }
   },
   "cell_type": "code",
   "source": [
    "# Initialize trading period\n",
    "trading_period = len(df)"
   ],
   "id": "151a2ebef8831230",
   "outputs": [],
   "execution_count": 11
  },
  {
   "metadata": {
    "ExecuteTime": {
     "end_time": "2024-12-24T06:57:04.139554Z",
     "start_time": "2024-12-24T06:57:04.133385Z"
    }
   },
   "cell_type": "code",
   "source": [
    "# Calculate stock moving averages\n",
    "df['Daily Returns'] = ((df['Adj Close']- df['Open']) / df['Open'])\n",
    "df['Daily Returns %'] = df[\"Daily Returns\"] * 100\n",
    "print(df.head())"
   ],
   "id": "d88930b4-c071-40ba-9f0a-dec7fb89932f",
   "outputs": [
    {
     "name": "stdout",
     "output_type": "stream",
     "text": [
      "        Price   Adj Close       Close        High         Low        Open  \\\n",
      "1  2024-01-02  139.218109  139.559998  140.615005  137.740005  139.600006   \n",
      "2  2024-01-03  140.016144  140.360001  141.089996  138.429993  138.600006   \n",
      "3  2024-01-04  137.701828  138.039993  140.634995  138.009995  139.850006   \n",
      "4  2024-01-05  137.053421  137.389999  138.809998  136.850006  138.352005   \n",
      "5  2024-01-08  140.185715  140.529999  140.639999  137.880005  138.000000   \n",
      "\n",
      "       Volume  Daily Returns  Daily Returns %  \n",
      "1  20071900.0      -0.002736        -0.273565  \n",
      "2  18974300.0       0.010217         1.021744  \n",
      "3  18253300.0      -0.015361        -1.536059  \n",
      "4  15433200.0      -0.009386        -0.938609  \n",
      "5  17645300.0       0.015839         1.583851  \n"
     ]
    }
   ],
   "execution_count": 12
  },
  {
   "metadata": {
    "ExecuteTime": {
     "end_time": "2024-12-24T06:57:05.437895Z",
     "start_time": "2024-12-24T06:57:05.434971Z"
    }
   },
   "cell_type": "code",
   "source": [
    "# Calculate Annual Return (2024-01-02) - (2024-12-03)\n",
    "annual_return = 100 * (df[\"Adj Close\"].iloc[-1] - df[\"Adj Close\"].iloc[0]) / df[\"Adj Close\"].iloc[0]\n",
    "print(annual_return)"
   ],
   "id": "ebf91b2ca0d23f4d",
   "outputs": [
    {
     "name": "stdout",
     "output_type": "stream",
     "text": [
      "24.279811981808454\n"
     ]
    }
   ],
   "execution_count": 13
  },
  {
   "metadata": {
    "ExecuteTime": {
     "end_time": "2024-12-24T06:57:06.371573Z",
     "start_time": "2024-12-24T06:57:06.369266Z"
    }
   },
   "cell_type": "code",
   "source": [
    "# Calculate volatility, where volatility = std_dev * sqrt(trading period)\n",
    "annual_volatility = df[\"Daily Returns\"].std() * math.sqrt(trading_period)\n"
   ],
   "id": "838eb753e67d97d3",
   "outputs": [],
   "execution_count": 14
  },
  {
   "metadata": {
    "ExecuteTime": {
     "end_time": "2024-12-24T06:57:07.463193Z",
     "start_time": "2024-12-24T06:57:07.459333Z"
    }
   },
   "cell_type": "code",
   "source": [
    "peak_index = df[\"High\"].idxmax()\n",
    "peak = pd.to_numeric(df[\"High\"][peak_index])\n",
    "trough = pd.to_numeric(df[\"Low\"][peak_index:].min())\n",
    "max_drawdown = (peak - trough) / peak\n",
    "print(max_drawdown)\n"
   ],
   "id": "b7d44b59ebfab6ed",
   "outputs": [
    {
     "name": "stdout",
     "output_type": "stream",
     "text": [
      "0.23335575593641178\n"
     ]
    }
   ],
   "execution_count": 15
  },
  {
   "metadata": {
    "ExecuteTime": {
     "end_time": "2024-12-24T06:57:08.672508Z",
     "start_time": "2024-12-24T06:57:08.668364Z"
    }
   },
   "cell_type": "code",
   "source": [
    "# Group data quarterly\n",
    "\n",
    "# Q1\n",
    "q1_last_index = df[df[\"Price\"] == \"2024-04-01\"].index\n",
    "q2_last_index = df[df[\"Price\"] == \"2024-07-01\"].index\n",
    "q3_last_index = df[df[\"Price\"] == \"2024-10-01\"].index\n",
    "# Cutoff data since we have not reached the end of the year\n",
    "q4_last_index = df[df[\"Price\"] == \"2024-12-03\"].index"
   ],
   "id": "dfd7946dbb7a071d",
   "outputs": [],
   "execution_count": 16
  },
  {
   "metadata": {
    "ExecuteTime": {
     "end_time": "2024-12-24T06:57:09.789930Z",
     "start_time": "2024-12-24T06:57:09.786626Z"
    }
   },
   "cell_type": "code",
   "source": [
    "# Calculate cut-off dates\n",
    "# Subtract by one to represent final day of that period\n",
    "jan_end = df[df[\"Price\"] == \"2024-02-01\"].index[0] - 1\n",
    "feb_end = df[df[\"Price\"] == \"2024-03-01\"].index[0] - 1\n",
    "mar_end = df[df[\"Price\"] == \"2024-04-01\"].index[0] - 1"
   ],
   "id": "9cd8ddecbcab2347",
   "outputs": [],
   "execution_count": 17
  },
  {
   "metadata": {
    "ExecuteTime": {
     "end_time": "2024-12-24T06:57:10.933900Z",
     "start_time": "2024-12-24T06:57:10.930828Z"
    }
   },
   "cell_type": "code",
   "source": [
    "# Calculate Q1 returns\n",
    "jan_open = df[\"Open\"].iloc[0]\n",
    "feb_open = df[\"Open\"].iloc[jan_end + 1]\n",
    "mar_open = df[\"Open\"].iloc[feb_end + 1]\n",
    "jan_returns = ((df[\"Adj Close\"].iloc[jan_end]- df[\"Open\"].iloc[0]) / df[\"Open\"].iloc[0]) * 100\n",
    "feb_returns = ((df[\"Adj Close\"].iloc[feb_end] - df[\"Open\"].iloc[jan_end+1]) / df[\"Open\"].iloc[jan_end+1]) * 100\n",
    "mar_returns = ((df[\"Adj Close\"].iloc[mar_end] - df[\"Open\"].iloc[feb_end+1]) / df[\"Open\"].iloc[feb_end+1]) * 100\n",
    "\n",
    "q1_monthly_returns = {\n",
    "    \"Jan\": jan_returns,\n",
    "    \"Feb\": feb_returns,\n",
    "    \"Mar\": mar_returns,\n",
    "}"
   ],
   "id": "871a4f982828fc22",
   "outputs": [],
   "execution_count": 18
  },
  {
   "metadata": {
    "ExecuteTime": {
     "end_time": "2024-12-24T06:57:12.289876Z",
     "start_time": "2024-12-24T06:57:12.286243Z"
    }
   },
   "cell_type": "code",
   "source": [
    "jan_period = jan_end\n",
    "feb_period = feb_end - jan_end\n",
    "mar_period = mar_end - feb_end\n",
    "jan_vol = df[\"Daily Returns\"].iloc[1:jan_end].std() * math.sqrt(jan_end-1)\n",
    "feb_vol = df[\"Daily Returns\"].iloc[jan_end:feb_end].std() * math.sqrt(feb_period)\n",
    "mar_vol = df[\"Daily Returns\"].iloc[feb_end:mar_end].std() * math.sqrt(mar_period)\n",
    "\n",
    "q1_monthly_volatility = {\n",
    "    \"Jan\": jan_vol,\n",
    "    \"Feb\": feb_vol,\n",
    "    \"Mar\": mar_vol\n",
    "}"
   ],
   "id": "1633d529452b36dd",
   "outputs": [],
   "execution_count": 19
  },
  {
   "metadata": {
    "ExecuteTime": {
     "end_time": "2024-12-24T06:57:13.768730Z",
     "start_time": "2024-12-24T06:57:13.766013Z"
    }
   },
   "cell_type": "code",
   "source": [
    "# Quarterly Volumes\n",
    "jan_volume_traded = df[\"Volume\"].iloc[:jan_end+1].sum()\n",
    "feb_volume_traded = df[\"Volume\"].iloc[jan_end+1:feb_end+1].sum()\n",
    "mar_volume_traded = df[\"Volume\"].iloc[feb_end+1:mar_end+1].sum()\n"
   ],
   "id": "72007a13bd84ce60",
   "outputs": [],
   "execution_count": 20
  },
  {
   "metadata": {
    "ExecuteTime": {
     "end_time": "2024-12-24T06:57:15.004490Z",
     "start_time": "2024-12-24T06:57:14.994890Z"
    }
   },
   "cell_type": "code",
   "source": "df.head()",
   "id": "9bf4319f0537d8b7",
   "outputs": [
    {
     "data": {
      "text/plain": [
       "        Price   Adj Close       Close        High         Low        Open  \\\n",
       "1  2024-01-02  139.218109  139.559998  140.615005  137.740005  139.600006   \n",
       "2  2024-01-03  140.016144  140.360001  141.089996  138.429993  138.600006   \n",
       "3  2024-01-04  137.701828  138.039993  140.634995  138.009995  139.850006   \n",
       "4  2024-01-05  137.053421  137.389999  138.809998  136.850006  138.352005   \n",
       "5  2024-01-08  140.185715  140.529999  140.639999  137.880005  138.000000   \n",
       "\n",
       "       Volume  Daily Returns  Daily Returns %  \n",
       "1  20071900.0      -0.002736        -0.273565  \n",
       "2  18974300.0       0.010217         1.021744  \n",
       "3  18253300.0      -0.015361        -1.536059  \n",
       "4  15433200.0      -0.009386        -0.938609  \n",
       "5  17645300.0       0.015839         1.583851  "
      ],
      "text/html": [
       "<div>\n",
       "<style scoped>\n",
       "    .dataframe tbody tr th:only-of-type {\n",
       "        vertical-align: middle;\n",
       "    }\n",
       "\n",
       "    .dataframe tbody tr th {\n",
       "        vertical-align: top;\n",
       "    }\n",
       "\n",
       "    .dataframe thead th {\n",
       "        text-align: right;\n",
       "    }\n",
       "</style>\n",
       "<table border=\"1\" class=\"dataframe\">\n",
       "  <thead>\n",
       "    <tr style=\"text-align: right;\">\n",
       "      <th></th>\n",
       "      <th>Price</th>\n",
       "      <th>Adj Close</th>\n",
       "      <th>Close</th>\n",
       "      <th>High</th>\n",
       "      <th>Low</th>\n",
       "      <th>Open</th>\n",
       "      <th>Volume</th>\n",
       "      <th>Daily Returns</th>\n",
       "      <th>Daily Returns %</th>\n",
       "    </tr>\n",
       "  </thead>\n",
       "  <tbody>\n",
       "    <tr>\n",
       "      <th>1</th>\n",
       "      <td>2024-01-02</td>\n",
       "      <td>139.218109</td>\n",
       "      <td>139.559998</td>\n",
       "      <td>140.615005</td>\n",
       "      <td>137.740005</td>\n",
       "      <td>139.600006</td>\n",
       "      <td>20071900.0</td>\n",
       "      <td>-0.002736</td>\n",
       "      <td>-0.273565</td>\n",
       "    </tr>\n",
       "    <tr>\n",
       "      <th>2</th>\n",
       "      <td>2024-01-03</td>\n",
       "      <td>140.016144</td>\n",
       "      <td>140.360001</td>\n",
       "      <td>141.089996</td>\n",
       "      <td>138.429993</td>\n",
       "      <td>138.600006</td>\n",
       "      <td>18974300.0</td>\n",
       "      <td>0.010217</td>\n",
       "      <td>1.021744</td>\n",
       "    </tr>\n",
       "    <tr>\n",
       "      <th>3</th>\n",
       "      <td>2024-01-04</td>\n",
       "      <td>137.701828</td>\n",
       "      <td>138.039993</td>\n",
       "      <td>140.634995</td>\n",
       "      <td>138.009995</td>\n",
       "      <td>139.850006</td>\n",
       "      <td>18253300.0</td>\n",
       "      <td>-0.015361</td>\n",
       "      <td>-1.536059</td>\n",
       "    </tr>\n",
       "    <tr>\n",
       "      <th>4</th>\n",
       "      <td>2024-01-05</td>\n",
       "      <td>137.053421</td>\n",
       "      <td>137.389999</td>\n",
       "      <td>138.809998</td>\n",
       "      <td>136.850006</td>\n",
       "      <td>138.352005</td>\n",
       "      <td>15433200.0</td>\n",
       "      <td>-0.009386</td>\n",
       "      <td>-0.938609</td>\n",
       "    </tr>\n",
       "    <tr>\n",
       "      <th>5</th>\n",
       "      <td>2024-01-08</td>\n",
       "      <td>140.185715</td>\n",
       "      <td>140.529999</td>\n",
       "      <td>140.639999</td>\n",
       "      <td>137.880005</td>\n",
       "      <td>138.000000</td>\n",
       "      <td>17645300.0</td>\n",
       "      <td>0.015839</td>\n",
       "      <td>1.583851</td>\n",
       "    </tr>\n",
       "  </tbody>\n",
       "</table>\n",
       "</div>"
      ]
     },
     "execution_count": 21,
     "metadata": {},
     "output_type": "execute_result"
    }
   ],
   "execution_count": 21
  },
  {
   "metadata": {
    "ExecuteTime": {
     "end_time": "2024-12-24T06:57:50.986850Z",
     "start_time": "2024-12-24T06:57:50.833568Z"
    }
   },
   "cell_type": "code",
   "source": [
    "# Create visuals\n",
    "\n",
    "# heat map for daily returns\n",
    "columns = ['Volume', 'Daily Returns', 'Adj Close',\n",
    "           'Open', 'Close']\n",
    "\n",
    "# Calculate Correlation Matrix\n",
    "correlation_matrix = df[columns].corr()\n",
    "\n",
    "# Plot Heatmap\n",
    "plt.figure(figsize=(10, 8))\n",
    "sns.heatmap(correlation_matrix, annot=True, cmap=\"coolwarm\", fmt=\".2f\", linewidths=0.5)\n",
    "plt.title(\"Correlation Heatmap of Google Stock (2024)\")\n",
    "plt.show()\n",
    "\n",
    "\n"
   ],
   "id": "8f2062588fc68439",
   "outputs": [
    {
     "data": {
      "text/plain": [
       "<Figure size 1000x800 with 2 Axes>"
      ],
      "image/png": "[encoded data removed]"
     },
     "metadata": {},
     "output_type": "display_data"
    }
   ],
   "execution_count": 22
  },
  {
   "metadata": {
    "ExecuteTime": {
     "end_time": "2024-12-24T07:10:39.618514Z",
     "start_time": "2024-12-24T07:10:39.525996Z"
    }
   },
   "cell_type": "code",
   "source": [
    "# Plot the Closing Price\n",
    "plt.figure(figsize=(12, 6))\n",
    "plt.plot(df['Price'], df['Close'], label='Closing Price', color='green')\n",
    "\n",
    "# Add labels and title\n",
    "plt.title(\"Google Stock Closing Prices (2024)\", fontsize=16)\n",
    "plt.xlabel(\"Date\", fontsize=12)\n",
    "plt.ylabel(\"Price (USD)\", fontsize=12)\n",
    "plt.legend()\n",
    "plt.grid(True)\n",
    "plt.show()"
   ],
   "id": "56623d5ec2ad9750",
   "outputs": [
    {
     "data": {
      "text/plain": [
       "<Figure size 1200x600 with 1 Axes>"
      ],
      "image/png": "[encoded data removed]"
     },
     "metadata": {},
     "output_type": "display_data"
    }
   ],
   "execution_count": 37
  },
  {
   "metadata": {
    "ExecuteTime": {
     "end_time": "2024-12-24T08:49:52.980740Z",
     "start_time": "2024-12-24T08:49:52.882736Z"
    }
   },
   "cell_type": "code",
   "source": [
    "import plotly.graph_objects as go\n",
    "\n",
    "# Calculate SMAs (Simple Moving Average)\n",
    "df['50 SMA'] = df['Close'].rolling(50).mean()\n",
    "df['200 SMA'] = df['Close'].rolling(200).mean()\n",
    "\n",
    "# Create the candlestick chart\n",
    "candle_stick_fig = go.Figure(data=[\n",
    "    go.Candlestick(\n",
    "        x=df.index,\n",
    "        open=df['Open'],\n",
    "        high=df['High'],\n",
    "        low=df['Low'],\n",
    "        close=df['Close'],\n",
    "        increasing_line_color='green',\n",
    "        decreasing_line_color='red'\n",
    "    )\n",
    "])\n",
    "\n",
    "# Add the 50-day moving average to the chart\n",
    "candle_stick_fig.add_trace(\n",
    "    go.Scatter(\n",
    "        x=df.index,  # Same x-axis (Date/Time)\n",
    "        y=df['50 SMA'],\n",
    "        mode='lines',\n",
    "        name='50-Day SMA',\n",
    "        line=dict(color='orange', width=1.5)\n",
    "    )\n",
    ")\n",
    "\n",
    "# Add the 200-day moving average to the chart\n",
    "candle_stick_fig.add_trace(\n",
    "    go.Scatter(\n",
    "        x=df.index,\n",
    "        y=df['200 SMA'],\n",
    "        mode='lines',\n",
    "        name='200-Day SMA',\n",
    "        line=dict(color='green', width=1.5)\n",
    "    )\n",
    ")\n",
    "\n",
    "# Update layout for the chart\n",
    "candle_stick_fig.update_layout(\n",
    "    title='Google Stock Candlestick Chart 2024',\n",
    "    xaxis_title='Date',\n",
    "    yaxis_title='Price (USD)',\n",
    "    xaxis_rangeslider_visible=False,\n",
    ")\n",
    "\n",
    "# Display the chart\n",
    "candle_stick_fig.show()\n"
   ],
   "id": "33aa071d2d6879e1",
   "outputs": [
    {
     "data": {
      "application/vnd.plotly.v1+json": {
       "data": [
        {
         "close": [
          139.55999755859375,
          140.36000061035156,
          138.0399932861328,
          137.38999938964844,
          140.52999877929688,
          142.55999755859375,
          143.8000030517578,
          143.6699981689453,
          144.24000549316406,
          144.0800018310547,
          142.88999938964844,
          144.99000549316406,
          147.97000122070312,
          147.7100067138672,
          148.67999267578125,
          150.35000610351562,
          153.63999938964844,
          153.7899932861328,
          154.83999633789062,
          153.0500030517578,
          141.8000030517578,
          142.7100067138672,
          143.5399932861328,
          144.92999267578125,
          145.41000366210938,
          146.67999267578125,
          147.22000122070312,
          150.22000122070312,
          148.72999572753906,
          146.3699951171875,
          147.13999938964844,
          143.94000244140625,
          141.75999450683594,
          142.1999969482422,
          143.83999633789062,
          145.32000732421875,
          145.2899932861328,
          138.75,
          140.10000610351562,
          137.42999267578125,
          139.77999877929688,
          138.0800018310547,
          134.1999969482422,
          133.77999877929688,
          132.55999755859375,
          135.24000549316406,
          136.2899932861328,
          138.94000244140625,
          139.6199951171875,
          140.77000427246094,
          144.33999633789062,
          142.1699981689453,
          148.47999572753906,
          147.9199981689453,
          149.67999267578125,
          148.74000549316406,
          151.77000427246094,
          151.14999389648438,
          151.6999969482422,
          151.94000244140625,
          152.25999450683594,
          156.5,
          155.8699951171875,
          156.3699951171875,
          151.94000244140625,
          153.94000244140625,
          156.13999938964844,
          158.13999938964844,
          157.66000366210938,
          160.7899932861328,
          159.19000244140625,
          156.3300018310547,
          156.0,
          156.8800048828125,
          157.4600067138672,
          155.72000122070312,
          157.9499969482422,
          159.9199981689453,
          161.10000610351562,
          157.9499969482422,
          173.69000244140625,
          167.89999389648438,
          164.63999938964844,
          165.57000732421875,
          168.4600067138672,
          168.99000549316406,
          169.8300018310547,
          172.97999572753906,
          171.16000366210938,
          171.5800018310547,
          170.2899932861328,
          170.89999389648438,
          171.92999267578125,
          173.8800048828125,
          175.42999267578125,
          177.2899932861328,
          178.4600067138672,
          179.5399932861328,
          178.0,
          175.05999755859375,
          176.3300018310547,
          178.02000427246094,
          177.39999389648438,
          173.55999755859375,
          173.9600067138672,
          174.4199981689453,
          175.1300048828125,
          177.07000732421875,
          178.35000610351562,
          175.9499969482422,
          176.6300048828125,
          178.19000244140625,
          179.55999755859375,
          176.74000549316406,
          178.3699951171875,
          178.77999877929688,
          176.4499969482422,
          177.7100067138672,
          180.25999450683594,
          180.7899932861328,
          185.5800018310547,
          185.3699951171875,
          186.86000061035156,
          183.4199981689453,
          184.49000549316406,
          186.61000061035156,
          187.38999938964844,
          191.9600067138672,
          190.47999572753906,
          190.44000244140625,
          192.66000366210938,
          187.3000030517578,
          186.77999877929688,
          188.19000244140625,
          185.5,
          182.6199951171875,
          179.22000122070312,
          179.38999938964844,
          183.35000610351562,
          183.60000610351562,
          174.3699951171875,
          169.16000366210938,
          168.67999267578125,
          171.1300048828125,
          171.86000061035156,
          173.14999389648438,
          172.4499969482422,
          168.39999389648438,
          160.63999938964844,
          160.5399932861328,
          160.75,
          163.83999633789062,
          165.38999938964844,
          163.9499969482422,
          165.92999267578125,
          162.02999877929688,
          163.1699981689453,
          164.74000549316406,
          168.39999389648438,
          168.9600067138672,
          167.6300048828125,
          165.49000549316406,
          167.42999267578125,
          167.92999267578125,
          166.3800048828125,
          164.5,
          163.39999389648438,
          165.11000061035156,
          158.61000061035156,
          157.80999755859375,
          158.60000610351562,
          152.1300048828125,
          149.5399932861328,
          150.00999450683594,
          152.14999389648438,
          155.5399932861328,
          158.3699951171875,
          158.99000549316406,
          160.27999877929688,
          160.80999755859375,
          163.24000549316406,
          164.63999938964844,
          163.07000732421875,
          163.63999938964844,
          162.99000549316406,
          163.8300018310547,
          165.2899932861328,
          167.19000244140625,
          168.4199981689453,
          167.30999755859375,
          167.2100067138672,
          168.55999755859375,
          164.38999938964844,
          165.6999969482422,
          163.05999755859375,
          163.17999267578125,
          164.52000427246094,
          166.35000610351562,
          166.89999389648438,
          166.74000549316406,
          164.50999450683594,
          165.0500030517578,
          165.8000030517578,
          166.82000732421875,
          164.47999572753906,
          164.52999877929688,
          166.99000549316406,
          168.33999633789062,
          171.13999938964844,
          176.13999938964844,
          172.69000244140625,
          172.64999389648438,
          170.67999267578125,
          171.41000366210938,
          178.3300018310547,
          182.27999877929688,
          179.86000061035156,
          181.97000122070312,
          183.32000732421875,
          180.49000549316406,
          177.35000610351562,
          173.88999938964844,
          176.8000030517578,
          179.5800018310547,
          177.3300018310547,
          169.24000549316406,
          166.57000732421875,
          169.42999267578125,
          170.6199951171875,
          170.82000732421875,
          170.49000549316406,
          172.97999572753906,
          173.02000427246094
         ],
         "decreasing": {
          "line": {
           "color": "red"
          }
         },
         "high": [
          140.61500549316406,
          141.08999633789062,
          140.63499450683594,
          138.80999755859375,
          140.63999938964844,
          142.8000030517578,
          144.52499389648438,
          146.66000366210938,
          144.74000549316406,
          145.83999633789062,
          143.41000366210938,
          145.5850067138672,
          148.0399932861328,
          150.01499938964844,
          148.86000061035156,
          151.57000732421875,
          154.75999450683594,
          154.11000061035156,
          155.1999969482422,
          155.0399932861328,
          145.58999633789062,
          144.6199951171875,
          143.8800048828125,
          146.6699981689453,
          146.74000549316406,
          147.0,
          147.61000061035156,
          150.69500732421875,
          150.58999633789062,
          148.0399932861328,
          147.8300018310547,
          144.75999450683594,
          144.47999572753906,
          143.32899475097656,
          143.97999572753906,
          146.1999969482422,
          145.9550018310547,
          143.83999633789062,
          140.49000549316406,
          139.27999877929688,
          139.9499969482422,
          140.0,
          136.6300048828125,
          134.02000427246094,
          134.74000549316406,
          135.82000732421875,
          138.98500061035156,
          139.97999572753906,
          140.27999877929688,
          142.19000244140625,
          144.72999572753906,
          144.33999633789062,
          152.92999267578125,
          149.6199951171875,
          149.75999450683594,
          151.30499267578125,
          152.55999755859375,
          151.45599365234375,
          153.1999969482422,
          152.69000244140625,
          152.6699981689453,
          157.0,
          155.99000549316406,
          156.5500030517578,
          156.17999267578125,
          154.83999633789062,
          156.65499877929688,
          159.88999938964844,
          158.16000366210938,
          161.1199951171875,
          161.6999969482422,
          160.8300018310547,
          157.22999572753906,
          158.68099975585938,
          158.48500061035156,
          157.99000549316406,
          159.18499755859375,
          160.47999572753906,
          161.38999938964844,
          158.27999877929688,
          176.4199981689453,
          171.3800048828125,
          169.8699951171875,
          168.80999755859375,
          168.52999877929688,
          169.85000610351562,
          169.89999389648438,
          173.47000122070312,
          171.90899658203125,
          172.44000244140625,
          171.33999633789062,
          170.9499969482422,
          172.77999877929688,
          174.04600524902344,
          176.33999633789062,
          177.4949951171875,
          179.9499969482422,
          179.82000732421875,
          178.8520050048828,
          179.91000366210938,
          177.3040008544922,
          178.50999450683594,
          178.22999572753906,
          176.69000244140625,
          174.4199981689453,
          175.86000061035156,
          175.19000244140625,
          177.97000122070312,
          178.7100067138672,
          179.4199981689453,
          178.47000122070312,
          178.38999938964844,
          182.0800018310547,
          178.50999450683594,
          178.72999572753906,
          179.9199981689453,
          178.91000366210938,
          178.74000549316406,
          182.51199340820312,
          182.0800018310547,
          185.75,
          185.92999267578125,
          187.5,
          186.5800018310547,
          185.33999633789062,
          186.9499969482422,
          187.6199951171875,
          192.25999450683594,
          191.6790008544922,
          192.86000061035156,
          193.30999755859375,
          192.41000366210938,
          188.69000244140625,
          189.89999389648438,
          190.33999633789062,
          185.22999572753906,
          184.0500030517578,
          181.97000122070312,
          184.3000030517578,
          185.22000122070312,
          177.9499969482422,
          175.1999969482422,
          169.83999633789062,
          172.16000366210938,
          172.9499969482422,
          175.91000366210938,
          175.67999267578125,
          170.2100067138672,
          165.94000244140625,
          162.35000610351562,
          164.7899932861328,
          165.5,
          165.52000427246094,
          166.6999969482422,
          166.5399932861328,
          164.9600067138672,
          163.52000427246094,
          166.9499969482422,
          168.47000122070312,
          170.41000366210938,
          168.63999938964844,
          169.4199981689453,
          167.9499969482422,
          169.3800048828125,
          168.2449951171875,
          167.38999938964844,
          167.6300048828125,
          165.27999877929688,
          163.3800048828125,
          160.39999389648438,
          161.01499938964844,
          159.22000122070312,
          154.63999938964844,
          152.3000030517578,
          152.47999572753906,
          155.61000061035156,
          159.27499389648438,
          159.24000549316406,
          161.58999633789062,
          161.6300048828125,
          164.99000549316406,
          164.75,
          166.61000061035156,
          164.5500030517578,
          164.2169952392578,
          165.5,
          166.97000122070312,
          167.36000061035156,
          170.44000244140625,
          168.8800048828125,
          167.91000366210938,
          169.5500030517578,
          169.89999389648438,
          166.10000610351562,
          166.25999450683594,
          164.31100463867188,
          165.27000427246094,
          167.6199951171875,
          169.08999633789062,
          167.27999877929688,
          167.92999267578125,
          166.3699951171875,
          166.22000122070312,
          167.47000122070312,
          167.60000610351562,
          165.0500030517578,
          167.39999389648438,
          170.6060028076172,
          171.86000061035156,
          183.7899932861328,
          178.4199981689453,
          173.82000732421875,
          171.9199981689453,
          172.0970001220703,
          178.63999938964844,
          182.5800018310547,
          182.35000610351562,
          182.0850067138672,
          184.02499389648438,
          182.61500549316406,
          180.44500732421875,
          175.8800048828125,
          176.91000366210938,
          180.1699981689453,
          179.11000061035156,
          175.5800018310547,
          168.26499938964844,
          170.4600067138672,
          171.4949951171875,
          171.13999938964844,
          170.8699951171875,
          173.60000610351562,
          174.32000732421875
         ],
         "increasing": {
          "line": {
           "color": "green"
          }
         },
         "low": [
          137.74000549316406,
          138.42999267578125,
          138.00999450683594,
          136.85000610351562,
          137.8800048828125,
          139.7899932861328,
          142.4600067138672,
          142.21499633789062,
          143.36000061035156,
          143.05599975585938,
          140.50999450683594,
          143.35000610351562,
          145.8000030517578,
          147.5800018310547,
          147.19000244140625,
          149.83999633789062,
          151.22000122070312,
          152.8000030517578,
          152.9199981689453,
          152.77499389648438,
          141.5500030517578,
          142.25999450683594,
          138.1699981689453,
          143.91000366210938,
          144.52000427246094,
          145.2100067138672,
          146.4199981689453,
          147.42999267578125,
          148.55999755859375,
          145.11000061035156,
          145.55499267578125,
          141.8800048828125,
          141.52000427246094,
          140.8000030517578,
          141.91000366210938,
          144.00999450683594,
          144.7899932861328,
          138.74000549316406,
          138.5,
          136.63999938964844,
          137.57000732421875,
          137.97500610351562,
          132.86000061035156,
          131.5500030517578,
          131.9499969482422,
          132.66000366210938,
          134.8000030517578,
          137.07000732421875,
          138.2100067138672,
          140.00999450683594,
          141.48500061035156,
          141.1300048828125,
          148.13999938964844,
          147.00999450683594,
          147.6649932861328,
          148.00999450683594,
          150.08999633789062,
          148.8000030517578,
          151.02999877929688,
          150.1300048828125,
          151.3300018310547,
          151.64999389648438,
          153.4600067138672,
          154.1320037841797,
          151.8800048828125,
          151.08099365234375,
          153.99000549316406,
          156.63999938964844,
          156.1999969482422,
          157.92999267578125,
          158.60000610351562,
          156.14999389648438,
          155.0500030517578,
          156.13499450683594,
          156.2100067138672,
          153.91000366210938,
          155.66000366210938,
          157.96499633789062,
          158.82000732421875,
          152.76800537109375,
          171.39999389648438,
          167.05999755859375,
          164.5,
          164.89999389648438,
          165.69000244140625,
          164.97999572753906,
          167.88999938964844,
          170.0,
          170.52200317382812,
          169.92999267578125,
          167.91000366210938,
          165.75999450683594,
          170.4199981689453,
          172.02999877929688,
          174.0500030517578,
          174.97999572753906,
          177.22500610351562,
          177.30999755859375,
          176.77999877929688,
          174.5399932861328,
          175.1999969482422,
          175.67999267578125,
          176.25999450683594,
          173.22999572753906,
          170.97000122070312,
          172.4499969482422,
          173.22000122070312,
          175.2899932861328,
          177.2100067138672,
          175.7899932861328,
          174.3800048828125,
          175.44000244140625,
          177.77999877929688,
          176.66000366210938,
          175.8520050048828,
          176.49000549316406,
          175.6199951171875,
          176.4600067138672,
          178.05999755859375,
          180.22999572753906,
          181.10499572753906,
          183.99000549316406,
          185.4499969482422,
          183.3249969482422,
          182.72999572753906,
          183.05999755859375,
          185.38499450683594,
          187.32000732421875,
          189.32000732421875,
          190.22999572753906,
          190.6199951171875,
          186.82000732421875,
          186.13999938964844,
          186.49000549316406,
          185.1199951171875,
          181.6199951171875,
          178.2100067138672,
          178.86000061035156,
          181.89999389648438,
          183.3300018310547,
          173.57000732421875,
          169.0500030517578,
          165.86500549316406,
          169.72000122070312,
          170.1199951171875,
          171.72000122070312,
          170.50999450683594,
          166.38999938964844,
          156.60000610351562,
          158.1300048828125,
          160.24000549316406,
          162.02999877929688,
          160.92999267578125,
          163.5500030517578,
          164.77000427246094,
          159.52999877929688,
          161.49000549316406,
          163.0800018310547,
          166.08999633789062,
          168.66000366210938,
          166.57000732421875,
          165.02999877929688,
          165.66000366210938,
          166.32000732421875,
          166.16000366210938,
          163.27999877929688,
          161.98199462890625,
          163.41000366210938,
          157.85499572753906,
          157.44000244140625,
          157.52000427246094,
          151.93499755859375,
          148.1999969482422,
          149.54299926757812,
          148.6999969482422,
          153.5,
          156.11000061035156,
          157.61000061035156,
          159.41000366210938,
          159.66000366210938,
          162.52200317382812,
          163.17999267578125,
          162.9499969482422,
          162.02999877929688,
          162.77499389648438,
          163.5,
          163.8300018310547,
          164.63999938964844,
          165.89999389648438,
          166.25,
          165.3699951171875,
          166.9600067138672,
          164.1300048828125,
          164.30999755859375,
          161.1199951171875,
          161.63999938964844,
          162.5,
          164.77999877929688,
          166.0500030517578,
          165.21600341796875,
          164.3699951171875,
          164.75,
          164.30499267578125,
          164.6699981689453,
          163.63299560546875,
          162.77000427246094,
          165.22999572753906,
          165.7899932861328,
          168.66000366210938,
          175.7449951171875,
          172.55999755859375,
          170.30999755859375,
          169.48500061035156,
          170.3699951171875,
          175.0399932861328,
          178.88999938964844,
          179.57000732421875,
          179.99000549316406,
          180.99000549316406,
          180.1199951171875,
          176.02999877929688,
          172.7449951171875,
          174.4199981689453,
          175.11599731445312,
          175.3300018310547,
          165.30999755859375,
          165.7100067138672,
          167.39999389648438,
          169.42999267578125,
          169.6699981689453,
          168.75,
          170.27000427246094,
          172.50999450683594
         ],
         "open": [
          139.60000610351562,
          138.60000610351562,
          139.85000610351562,
          138.3520050048828,
          138.0,
          140.05999755859375,
          142.52000427246094,
          144.89500427246094,
          144.33999633789062,
          143.42999267578125,
          142.91000366210938,
          143.44000244140625,
          146.30499267578125,
          148.7100067138672,
          147.72000122070312,
          150.2899932861328,
          151.74000549316406,
          152.8699951171875,
          153.63999938964844,
          154.00999450683594,
          145.38999938964844,
          143.69000244140625,
          140.88999938964844,
          144.0399932861328,
          145.9600067138672,
          146.1199951171875,
          146.97000122070312,
          147.9499969482422,
          149.5399932861328,
          146.07000732421875,
          147.3699951171875,
          144.4600067138672,
          144.2100067138672,
          140.94000244140625,
          142.63999938964844,
          146.1199951171875,
          144.97000122070312,
          143.4499969482422,
          139.41000366210938,
          139.10000610351562,
          138.35000610351562,
          139.61000061035156,
          136.5399932861328,
          132.74000549316406,
          134.24000549316406,
          133.88999938964844,
          135.03500366210938,
          137.07000732421875,
          138.25,
          140.05999755859375,
          142.3000030517578,
          143.41000366210938,
          149.3699951171875,
          148.97999572753906,
          148.7899932861328,
          150.32000732421875,
          150.24000549316406,
          150.9499969482422,
          151.24000549316406,
          152.14500427246094,
          152.0,
          151.8300018310547,
          154.75,
          154.9199981689453,
          155.0800018310547,
          151.67999267578125,
          154.01499938964844,
          157.35000610351562,
          157.8800048828125,
          158.33999633789062,
          159.40499877929688,
          160.27999877929688,
          155.63999938964844,
          157.19000244140625,
          156.9250030517578,
          157.75,
          156.00999450683594,
          158.58999633789062,
          159.08999633789062,
          153.36000061035156,
          175.99000549316406,
          170.77000427246094,
          167.3800048828125,
          166.17999267578125,
          166.6699981689453,
          169.5399932861328,
          169.22000122070312,
          170.1199951171875,
          170.75,
          171.14999389648438,
          169.69000244140625,
          165.8470001220703,
          171.58999633789062,
          172.3000030517578,
          174.60000610351562,
          175.5500030517578,
          177.30999755859375,
          178.39999389648438,
          178.39999389648438,
          178.77999877929688,
          176.52000427246094,
          175.74000549316406,
          176.80999755859375,
          176.69000244140625,
          173.39999389648438,
          173.8800048828125,
          174.4499969482422,
          176.53500366210938,
          177.42999267578125,
          178.4600067138672,
          176.4499969482422,
          177.72000122070312,
          179.75,
          177.83999633789062,
          175.8520050048828,
          176.97999572753906,
          178.7899932861328,
          176.7100067138672,
          178.49000549316406,
          181.27999877929688,
          181.14500427246094,
          184.1999969482422,
          185.64500427246094,
          185.72000122070312,
          184.47999572753906,
          183.47000122070312,
          186.3000030517578,
          187.32000732421875,
          191.36500549316406,
          191.75,
          190.75,
          191.33999633789062,
          186.9199981689453,
          186.49000549316406,
          188.9600067138672,
          184.67999267578125,
          183.5399932861328,
          180.3699951171875,
          182.35000610351562,
          183.83999633789062,
          175.38999938964844,
          174.25,
          168.77000427246094,
          170.5,
          171.8300018310547,
          174.9199981689453,
          171.97999572753906,
          168.19000244140625,
          157.3699951171875,
          160.94500732421875,
          163.24000549316406,
          162.343994140625,
          161.64500427246094,
          165.9949951171875,
          165.18499755859375,
          164.2100067138672,
          162.2100067138672,
          163.41000366210938,
          167.0,
          168.74000549316406,
          166.99000549316406,
          169.0399932861328,
          166.5500030517578,
          168.15499877929688,
          167.61000061035156,
          166.77999877929688,
          166.05999755859375,
          164.22000122070312,
          163.31500244140625,
          158.0749969482422,
          157.77999877929688,
          158.69000244140625,
          153.6300048828125,
          151.4499969482422,
          151.08999633789062,
          154.80999755859375,
          156.36199951171875,
          158.3300018310547,
          160.08999633789062,
          160.85000610351562,
          164.82000732421875,
          164.52000427246094,
          165.33999633789062,
          164.25,
          162.97000122070312,
          165.02999877929688,
          163.91000366210938,
          164.77999877929688,
          168.86000061035156,
          167.75999450683594,
          165.82000732421875,
          169.33999633789062,
          169.13999938964844,
          165.42999267578125,
          164.85499572753906,
          162.11000061035156,
          163.3300018310547,
          164.91000366210938,
          167.13999938964844,
          166.02999877929688,
          167.3800048828125,
          164.8699951171875,
          164.5800018310547,
          164.6999969482422,
          166.42999267578125,
          164.58999633789062,
          165.36500549316406,
          170.58999633789062,
          169.38499450683594,
          182.41000366210938,
          174.72000122070312,
          171.5399932861328,
          171.24000549316406,
          170.8300018310547,
          175.35000610351562,
          179.11000061035156,
          182.0,
          180.07000732421875,
          181.3800048828125,
          182.14999389648438,
          179.75,
          175.63999938964844,
          174.9550018310547,
          175.23500061035156,
          178.8300018310547,
          175.4550018310547,
          167.16000366210938,
          167.99000549316406,
          169.49000549316406,
          170.67999267578125,
          170.05999755859375,
          170.32000732421875,
          173.1199951171875
         ],
         "x": [
          1,
          2,
          3,
          4,
          5,
          6,
          7,
          8,
          9,
          10,
          11,
          12,
          13,
          14,
          15,
          16,
          17,
          18,
          19,
          20,
          21,
          22,
          23,
          24,
          25,
          26,
          27,
          28,
          29,
          30,
          31,
          32,
          33,
          34,
          35,
          36,
          37,
          38,
          39,
          40,
          41,
          42,
          43,
          44,
          45,
          46,
          47,
          48,
          49,
          50,
          51,
          52,
          53,
          54,
          55,
          56,
          57,
          58,
          59,
          60,
          61,
          62,
          63,
          64,
          65,
          66,
          67,
          68,
          69,
          70,
          71,
          72,
          73,
          74,
          75,
          76,
          77,
          78,
          79,
          80,
          81,
          82,
          83,
          84,
          85,
          86,
          87,
          88,
          89,
          90,
          91,
          92,
          93,
          94,
          95,
          96,
          97,
          98,
          99,
          100,
          101,
          102,
          103,
          104,
          105,
          106,
          107,
          108,
          109,
          110,
          111,
          112,
          113,
          114,
          115,
          116,
          117,
          118,
          119,
          120,
          121,
          122,
          123,
          124,
          125,
          126,
          127,
          128,
          129,
          130,
          131,
          132,
          133,
          134,
          135,
          136,
          137,
          138,
          139,
          140,
          141,
          142,
          143,
          144,
          145,
          146,
          147,
          148,
          149,
          150,
          151,
          152,
          153,
          154,
          155,
          156,
          157,
          158,
          159,
          160,
          161,
          162,
          163,
          164,
          165,
          166,
          167,
          168,
          169,
          170,
          171,
          172,
          173,
          174,
          175,
          176,
          177,
          178,
          179,
          180,
          181,
          182,
          183,
          184,
          185,
          186,
          187,
          188,
          189,
          190,
          191,
          192,
          193,
          194,
          195,
          196,
          197,
          198,
          199,
          200,
          201,
          202,
          203,
          204,
          205,
          206,
          207,
          208,
          209,
          210,
          211,
          212,
          213,
          214,
          215,
          216,
          217,
          218,
          219,
          220,
          221,
          222,
          223,
          224,
          225,
          226,
          227,
          228,
          229,
          230,
          231,
          232,
          233
         ],
         "type": "candlestick"
        },
        {
         "line": {
          "color": "orange",
          "width": 1.5
         },
         "mode": "lines",
         "name": "50-Day SMA",
         "x": [
          1,
          2,
          3,
          4,
          5,
          6,
          7,
          8,
          9,
          10,
          11,
          12,
          13,
          14,
          15,
          16,
          17,
          18,
          19,
          20,
          21,
          22,
          23,
          24,
          25,
          26,
          27,
          28,
          29,
          30,
          31,
          32,
          33,
          34,
          35,
          36,
          37,
          38,
          39,
          40,
          41,
          42,
          43,
          44,
          45,
          46,
          47,
          48,
          49,
          50,
          51,
          52,
          53,
          54,
          55,
          56,
          57,
          58,
          59,
          60,
          61,
          62,
          63,
          64,
          65,
          66,
          67,
          68,
          69,
          70,
          71,
          72,
          73,
          74,
          75,
          76,
          77,
          78,
          79,
          80,
          81,
          82,
          83,
          84,
          85,
          86,
          87,
          88,
          89,
          90,
          91,
          92,
          93,
          94,
          95,
          96,
          97,
          98,
          99,
          100,
          101,
          102,
          103,
          104,
          105,
          106,
          107,
          108,
          109,
          110,
          111,
          112,
          113,
          114,
          115,
          116,
          117,
          118,
          119,
          120,
          121,
          122,
          123,
          124,
          125,
          126,
          127,
          128,
          129,
          130,
          131,
          132,
          133,
          134,
          135,
          136,
          137,
          138,
          139,
          140,
          141,
          142,
          143,
          144,
          145,
          146,
          147,
          148,
          149,
          150,
          151,
          152,
          153,
          154,
          155,
          156,
          157,
          158,
          159,
          160,
          161,
          162,
          163,
          164,
          165,
          166,
          167,
          168,
          169,
          170,
          171,
          172,
          173,
          174,
          175,
          176,
          177,
          178,
          179,
          180,
          181,
          182,
          183,
          184,
          185,
          186,
          187,
          188,
          189,
          190,
          191,
          192,
          193,
          194,
          195,
          196,
          197,
          198,
          199,
          200,
          201,
          202,
          203,
          204,
          205,
          206,
          207,
          208,
          209,
          210,
          211,
          212,
          213,
          214,
          215,
          216,
          217,
          218,
          219,
          220,
          221,
          222,
          223,
          224,
          225,
          226,
          227,
          228,
          229,
          230,
          231,
          232,
          233
         ],
         "y": [
          null,
          null,
          null,
          null,
          null,
          null,
          null,
          null,
          null,
          null,
          null,
          null,
          null,
          null,
          null,
          null,
          null,
          null,
          null,
          null,
          null,
          null,
          null,
          null,
          null,
          null,
          null,
          null,
          null,
          null,
          null,
          null,
          null,
          null,
          null,
          null,
          null,
          null,
          null,
          null,
          null,
          null,
          null,
          null,
          null,
          null,
          null,
          null,
          null,
          143.29559936523438,
          143.39119934082032,
          143.42739929199217,
          143.63619934082033,
          143.84679931640625,
          144.02979919433594,
          144.15339935302734,
          144.3127993774414,
          144.4623992919922,
          144.61159912109375,
          144.76879913330077,
          144.95619903564454,
          145.18639892578125,
          145.34439880371093,
          145.51759857177734,
          145.58279876708986,
          145.65459869384765,
          145.70459869384766,
          145.79159881591798,
          145.84799896240236,
          146.00279876708984,
          146.3505987548828,
          146.62299865722656,
          146.8721987915039,
          147.11119903564452,
          147.3521990966797,
          147.53299926757813,
          147.7475991821289,
          147.94159912109376,
          148.18899932861328,
          148.42059936523438,
          148.95159942626952,
          149.43079925537108,
          149.88839935302735,
          150.35579956054687,
          150.8481997680664,
          151.3215997314453,
          151.81239990234374,
          152.49699981689454,
          153.1181997680664,
          153.80119995117187,
          154.4113998413086,
          155.0677996826172,
          155.82239959716796,
          156.62439971923828,
          157.48179962158204,
          158.3227993774414,
          159.1661996459961,
          159.97819946289061,
          160.74579956054689,
          161.43159942626954,
          162.07139953613282,
          162.78839965820313,
          163.36679962158203,
          163.879599609375,
          164.36519989013672,
          164.87879974365234,
          165.34599975585937,
          165.86440002441407,
          166.39740020751952,
          166.87760009765626,
          167.36500030517578,
          167.7988003540039,
          168.27260040283204,
          168.68000061035156,
          169.20860046386719,
          169.705400390625,
          170.11160034179687,
          170.50300048828126,
          170.9550003051758,
          171.3550003051758,
          171.88280029296874,
          172.4636001586914,
          173.08080017089844,
          173.6116000366211,
          174.15220001220703,
          174.77,
          175.35880004882813,
          175.99960021972657,
          176.58720001220703,
          177.2370001220703,
          177.61640014648438,
          178.00440032958986,
          178.44720031738282,
          178.89960021972655,
          179.2404000854492,
          179.5129998779297,
          179.70079986572264,
          179.82899993896484,
          180.07279998779296,
          180.3132000732422,
          180.39480010986327,
          180.3600003051758,
          180.2950003051758,
          180.24000030517578,
          180.1686004638672,
          180.0858004760742,
          179.96560028076172,
          179.74280029296875,
          179.39560028076173,
          179.1052001953125,
          178.79360015869142,
          178.51,
          178.26980010986327,
          178.07760009765624,
          177.91699981689453,
          177.66919982910156,
          177.42999969482423,
          177.18339965820311,
          176.9843994140625,
          176.844599609375,
          176.664599609375,
          176.41059967041016,
          176.1679995727539,
          175.99179931640626,
          175.75199951171874,
          175.46639953613283,
          175.20539947509766,
          174.95339935302735,
          174.52039947509766,
          174.06079956054688,
          173.5211996459961,
          172.8563998413086,
          172.1099996948242,
          171.44179962158202,
          170.79499938964844,
          170.17359924316406,
          169.59319915771485,
          168.9337991333008,
          168.32979919433595,
          167.7371990966797,
          167.14879913330077,
          166.69559906005858,
          166.22139923095702,
          165.73039916992187,
          165.28019927978517,
          164.9043994140625,
          164.6257992553711,
          164.38179931640624,
          164.08319915771483,
          163.7573989868164,
          163.61419921875,
          163.6021990966797,
          163.51639923095703,
          163.40779907226562,
          163.23179901123046,
          163.03239898681642,
          162.8737991333008,
          162.8327993774414,
          162.95799926757812,
          163.08199951171875,
          163.15719940185548,
          163.1813995361328,
          163.189599609375,
          163.24699981689454,
          163.21799987792969,
          163.2679998779297,
          163.34440002441406,
          163.4163998413086,
          163.47119995117188,
          163.6147998046875,
          163.71599975585937,
          163.85919952392578,
          163.92419952392578,
          163.99379974365235,
          164.23279968261718,
          164.58839965820312,
          164.91759979248047,
          165.2547998046875,
          165.74899993896486,
          166.20260009765624,
          166.57760009765624,
          167.01279998779296,
          167.55800018310546,
          168.14940032958984,
          168.65300048828124,
          168.92700073242187,
          169.0910009765625,
          169.29980072021485,
          169.50660064697266,
          169.70680084228516,
          169.85180084228514,
          170.01860076904296,
          170.2176007080078
         ],
         "type": "scatter"
        },
        {
         "line": {
          "color": "green",
          "width": 1.5
         },
         "mode": "lines",
         "name": "200-Day SMA",
         "x": [
          1,
          2,
          3,
          4,
          5,
          6,
          7,
          8,
          9,
          10,
          11,
          12,
          13,
          14,
          15,
          16,
          17,
          18,
          19,
          20,
          21,
          22,
          23,
          24,
          25,
          26,
          27,
          28,
          29,
          30,
          31,
          32,
          33,
          34,
          35,
          36,
          37,
          38,
          39,
          40,
          41,
          42,
          43,
          44,
          45,
          46,
          47,
          48,
          49,
          50,
          51,
          52,
          53,
          54,
          55,
          56,
          57,
          58,
          59,
          60,
          61,
          62,
          63,
          64,
          65,
          66,
          67,
          68,
          69,
          70,
          71,
          72,
          73,
          74,
          75,
          76,
          77,
          78,
          79,
          80,
          81,
          82,
          83,
          84,
          85,
          86,
          87,
          88,
          89,
          90,
          91,
          92,
          93,
          94,
          95,
          96,
          97,
          98,
          99,
          100,
          101,
          102,
          103,
          104,
          105,
          106,
          107,
          108,
          109,
          110,
          111,
          112,
          113,
          114,
          115,
          116,
          117,
          118,
          119,
          120,
          121,
          122,
          123,
          124,
          125,
          126,
          127,
          128,
          129,
          130,
          131,
          132,
          133,
          134,
          135,
          136,
          137,
          138,
          139,
          140,
          141,
          142,
          143,
          144,
          145,
          146,
          147,
          148,
          149,
          150,
          151,
          152,
          153,
          154,
          155,
          156,
          157,
          158,
          159,
          160,
          161,
          162,
          163,
          164,
          165,
          166,
          167,
          168,
          169,
          170,
          171,
          172,
          173,
          174,
          175,
          176,
          177,
          178,
          179,
          180,
          181,
          182,
          183,
          184,
          185,
          186,
          187,
          188,
          189,
          190,
          191,
          192,
          193,
          194,
          195,
          196,
          197,
          198,
          199,
          200,
          201,
          202,
          203,
          204,
          205,
          206,
          207,
          208,
          209,
          210,
          211,
          212,
          213,
          214,
          215,
          216,
          217,
          218,
          219,
          220,
          221,
          222,
          223,
          224,
          225,
          226,
          227,
          228,
          229,
          230,
          231,
          232,
          233
         ],
         "y": [
          null,
          null,
          null,
          null,
          null,
          null,
          null,
          null,
          null,
          null,
          null,
          null,
          null,
          null,
          null,
          null,
          null,
          null,
          null,
          null,
          null,
          null,
          null,
          null,
          null,
          null,
          null,
          null,
          null,
          null,
          null,
          null,
          null,
          null,
          null,
          null,
          null,
          null,
          null,
          null,
          null,
          null,
          null,
          null,
          null,
          null,
          null,
          null,
          null,
          null,
          null,
          null,
          null,
          null,
          null,
          null,
          null,
          null,
          null,
          null,
          null,
          null,
          null,
          null,
          null,
          null,
          null,
          null,
          null,
          null,
          null,
          null,
          null,
          null,
          null,
          null,
          null,
          null,
          null,
          null,
          null,
          null,
          null,
          null,
          null,
          null,
          null,
          null,
          null,
          null,
          null,
          null,
          null,
          null,
          null,
          null,
          null,
          null,
          null,
          null,
          null,
          null,
          null,
          null,
          null,
          null,
          null,
          null,
          null,
          null,
          null,
          null,
          null,
          null,
          null,
          null,
          null,
          null,
          null,
          null,
          null,
          null,
          null,
          null,
          null,
          null,
          null,
          null,
          null,
          null,
          null,
          null,
          null,
          null,
          null,
          null,
          null,
          null,
          null,
          null,
          null,
          null,
          null,
          null,
          null,
          null,
          null,
          null,
          null,
          null,
          null,
          null,
          null,
          null,
          null,
          null,
          null,
          null,
          null,
          null,
          null,
          null,
          null,
          null,
          null,
          null,
          null,
          null,
          null,
          null,
          null,
          null,
          null,
          null,
          null,
          null,
          null,
          null,
          null,
          null,
          null,
          null,
          null,
          null,
          null,
          null,
          null,
          null,
          null,
          null,
          null,
          null,
          null,
          null,
          null,
          null,
          null,
          null,
          null,
          161.7285996246338,
          161.853349609375,
          161.97679962158202,
          162.11559967041015,
          162.262749710083,
          162.38249969482422,
          162.49234970092775,
          162.60829971313476,
          162.73164970397949,
          162.8661496734619,
          163.02644966125487,
          163.17544967651367,
          163.31374961853027,
          163.42729957580568,
          163.54579956054687,
          163.69404960632323,
          163.85369956970214,
          163.98479957580565,
          164.1256996154785,
          164.26809967041015,
          164.4052996826172,
          164.58304969787596,
          164.73894966125488,
          164.905249710083,
          165.07849975585938,
          165.2380997467041,
          165.35089981079102,
          165.4476498413086,
          165.543699798584,
          165.65314979553222,
          165.7753998565674,
          165.89214988708497,
          166.03734985351562,
          166.19364990234374
         ],
         "type": "scatter"
        }
       ],
       "layout": {
        "template": {
         "data": {
          "histogram2dcontour": [
           {
            "type": "histogram2dcontour",
            "colorbar": {
             "outlinewidth": 0,
             "ticks": ""
            },
            "colorscale": [
             [
              0.0,
              "#0d0887"
             ],
             [
              0.1111111111111111,
              "#46039f"
             ],
             [
              0.2222222222222222,
              "#7201a8"
             ],
             [
              0.3333333333333333,
              "#9c179e"
             ],
             [
              0.4444444444444444,
              "#bd3786"
             ],
             [
              0.5555555555555556,
              "#d8576b"
             ],
             [
              0.6666666666666666,
              "#ed7953"
             ],
             [
              0.7777777777777778,
              "#fb9f3a"
             ],
             [
              0.8888888888888888,
              "#fdca26"
             ],
             [
              1.0,
              "#f0f921"
             ]
            ]
           }
          ],
          "choropleth": [
           {
            "type": "choropleth",
            "colorbar": {
             "outlinewidth": 0,
             "ticks": ""
            }
           }
          ],
          "histogram2d": [
           {
            "type": "histogram2d",
            "colorbar": {
             "outlinewidth": 0,
             "ticks": ""
            },
            "colorscale": [
             [
              0.0,
              "#0d0887"
             ],
             [
              0.1111111111111111,
              "#46039f"
             ],
             [
              0.2222222222222222,
              "#7201a8"
             ],
             [
              0.3333333333333333,
              "#9c179e"
             ],
             [
              0.4444444444444444,
              "#bd3786"
             ],
             [
              0.5555555555555556,
              "#d8576b"
             ],
             [
              0.6666666666666666,
              "#ed7953"
             ],
             [
              0.7777777777777778,
              "#fb9f3a"
             ],
             [
              0.8888888888888888,
              "#fdca26"
             ],
             [
              1.0,
              "#f0f921"
             ]
            ]
           }
          ],
          "heatmap": [
           {
            "type": "heatmap",
            "colorbar": {
             "outlinewidth": 0,
             "ticks": ""
            },
            "colorscale": [
             [
              0.0,
              "#0d0887"
             ],
             [
              0.1111111111111111,
              "#46039f"
             ],
             [
              0.2222222222222222,
              "#7201a8"
             ],
             [
              0.3333333333333333,
              "#9c179e"
             ],
             [
              0.4444444444444444,
              "#bd3786"
             ],
             [
              0.5555555555555556,
              "#d8576b"
             ],
             [
              0.6666666666666666,
              "#ed7953"
             ],
             [
              0.7777777777777778,
              "#fb9f3a"
             ],
             [
              0.8888888888888888,
              "#fdca26"
             ],
             [
              1.0,
              "#f0f921"
             ]
            ]
           }
          ],
          "heatmapgl": [
           {
            "type": "heatmapgl",
            "colorbar": {
             "outlinewidth": 0,
             "ticks": ""
            },
            "colorscale": [
             [
              0.0,
              "#0d0887"
             ],
             [
              0.1111111111111111,
              "#46039f"
             ],
             [
              0.2222222222222222,
              "#7201a8"
             ],
             [
              0.3333333333333333,
              "#9c179e"
             ],
             [
              0.4444444444444444,
              "#bd3786"
             ],
             [
              0.5555555555555556,
              "#d8576b"
             ],
             [
              0.6666666666666666,
              "#ed7953"
             ],
             [
              0.7777777777777778,
              "#fb9f3a"
             ],
             [
              0.8888888888888888,
              "#fdca26"
             ],
             [
              1.0,
              "#f0f921"
             ]
            ]
           }
          ],
          "contourcarpet": [
           {
            "type": "contourcarpet",
            "colorbar": {
             "outlinewidth": 0,
             "ticks": ""
            }
           }
          ],
          "contour": [
           {
            "type": "contour",
            "colorbar": {
             "outlinewidth": 0,
             "ticks": ""
            },
            "colorscale": [
             [
              0.0,
              "#0d0887"
             ],
             [
              0.1111111111111111,
              "#46039f"
             ],
             [
              0.2222222222222222,
              "#7201a8"
             ],
             [
              0.3333333333333333,
              "#9c179e"
             ],
             [
              0.4444444444444444,
              "#bd3786"
             ],
             [
              0.5555555555555556,
              "#d8576b"
             ],
             [
              0.6666666666666666,
              "#ed7953"
             ],
             [
              0.7777777777777778,
              "#fb9f3a"
             ],
             [
              0.8888888888888888,
              "#fdca26"
             ],
             [
              1.0,
              "#f0f921"
             ]
            ]
           }
          ],
          "surface": [
           {
            "type": "surface",
            "colorbar": {
             "outlinewidth": 0,
             "ticks": ""
            },
            "colorscale": [
             [
              0.0,
              "#0d0887"
             ],
             [
              0.1111111111111111,
              "#46039f"
             ],
             [
              0.2222222222222222,
              "#7201a8"
             ],
             [
              0.3333333333333333,
              "#9c179e"
             ],
             [
              0.4444444444444444,
              "#bd3786"
             ],
             [
              0.5555555555555556,
              "#d8576b"
             ],
             [
              0.6666666666666666,
              "#ed7953"
             ],
             [
              0.7777777777777778,
              "#fb9f3a"
             ],
             [
              0.8888888888888888,
              "#fdca26"
             ],
             [
              1.0,
              "#f0f921"
             ]
            ]
           }
          ],
          "mesh3d": [
           {
            "type": "mesh3d",
            "colorbar": {
             "outlinewidth": 0,
             "ticks": ""
            }
           }
          ],
          "scatter": [
           {
            "fillpattern": {
             "fillmode": "overlay",
             "size": 10,
             "solidity": 0.2
            },
            "type": "scatter"
           }
          ],
          "parcoords": [
           {
            "type": "parcoords",
            "line": {
             "colorbar": {
              "outlinewidth": 0,
              "ticks": ""
             }
            }
           }
          ],
          "scatterpolargl": [
           {
            "type": "scatterpolargl",
            "marker": {
             "colorbar": {
              "outlinewidth": 0,
              "ticks": ""
             }
            }
           }
          ],
          "bar": [
           {
            "error_x": {
             "color": "#2a3f5f"
            },
            "error_y": {
             "color": "#2a3f5f"
            },
            "marker": {
             "line": {
              "color": "#E5ECF6",
              "width": 0.5
             },
             "pattern": {
              "fillmode": "overlay",
              "size": 10,
              "solidity": 0.2
             }
            },
            "type": "bar"
           }
          ],
          "scattergeo": [
           {
            "type": "scattergeo",
            "marker": {
             "colorbar": {
              "outlinewidth": 0,
              "ticks": ""
             }
            }
           }
          ],
          "scatterpolar": [
           {
            "type": "scatterpolar",
            "marker": {
             "colorbar": {
              "outlinewidth": 0,
              "ticks": ""
             }
            }
           }
          ],
          "histogram": [
           {
            "marker": {
             "pattern": {
              "fillmode": "overlay",
              "size": 10,
              "solidity": 0.2
             }
            },
            "type": "histogram"
           }
          ],
          "scattergl": [
           {
            "type": "scattergl",
            "marker": {
             "colorbar": {
              "outlinewidth": 0,
              "ticks": ""
             }
            }
           }
          ],
          "scatter3d": [
           {
            "type": "scatter3d",
            "line": {
             "colorbar": {
              "outlinewidth": 0,
              "ticks": ""
             }
            },
            "marker": {
             "colorbar": {
              "outlinewidth": 0,
              "ticks": ""
             }
            }
           }
          ],
          "scattermapbox": [
           {
            "type": "scattermapbox",
            "marker": {
             "colorbar": {
              "outlinewidth": 0,
              "ticks": ""
             }
            }
           }
          ],
          "scatterternary": [
           {
            "type": "scatterternary",
            "marker": {
             "colorbar": {
              "outlinewidth": 0,
              "ticks": ""
             }
            }
           }
          ],
          "scattercarpet": [
           {
            "type": "scattercarpet",
            "marker": {
             "colorbar": {
              "outlinewidth": 0,
              "ticks": ""
             }
            }
           }
          ],
          "carpet": [
           {
            "aaxis": {
             "endlinecolor": "#2a3f5f",
             "gridcolor": "white",
             "linecolor": "white",
             "minorgridcolor": "white",
             "startlinecolor": "#2a3f5f"
            },
            "baxis": {
             "endlinecolor": "#2a3f5f",
             "gridcolor": "white",
             "linecolor": "white",
             "minorgridcolor": "white",
             "startlinecolor": "#2a3f5f"
            },
            "type": "carpet"
           }
          ],
          "table": [
           {
            "cells": {
             "fill": {
              "color": "#EBF0F8"
             },
             "line": {
              "color": "white"
             }
            },
            "header": {
             "fill": {
              "color": "#C8D4E3"
             },
             "line": {
              "color": "white"
             }
            },
            "type": "table"
           }
          ],
          "barpolar": [
           {
            "marker": {
             "line": {
              "color": "#E5ECF6",
              "width": 0.5
             },
             "pattern": {
              "fillmode": "overlay",
              "size": 10,
              "solidity": 0.2
             }
            },
            "type": "barpolar"
           }
          ],
          "pie": [
           {
            "automargin": true,
            "type": "pie"
           }
          ]
         },
         "layout": {
          "autotypenumbers": "strict",
          "colorway": [
           "#636efa",
           "#EF553B",
           "#00cc96",
           "#ab63fa",
           "#FFA15A",
           "#19d3f3",
           "#FF6692",
           "#B6E880",
           "#FF97FF",
           "#FECB52"
          ],
          "font": {
           "color": "#2a3f5f"
          },
          "hovermode": "closest",
          "hoverlabel": {
           "align": "left"
          },
          "paper_bgcolor": "white",
          "plot_bgcolor": "#E5ECF6",
          "polar": {
           "bgcolor": "#E5ECF6",
           "angularaxis": {
            "gridcolor": "white",
            "linecolor": "white",
            "ticks": ""
           },
           "radialaxis": {
            "gridcolor": "white",
            "linecolor": "white",
            "ticks": ""
           }
          },
          "ternary": {
           "bgcolor": "#E5ECF6",
           "aaxis": {
            "gridcolor": "white",
            "linecolor": "white",
            "ticks": ""
           },
           "baxis": {
            "gridcolor": "white",
            "linecolor": "white",
            "ticks": ""
           },
           "caxis": {
            "gridcolor": "white",
            "linecolor": "white",
            "ticks": ""
           }
          },
          "coloraxis": {
           "colorbar": {
            "outlinewidth": 0,
            "ticks": ""
           }
          },
          "colorscale": {
           "sequential": [
            [
             0.0,
             "#0d0887"
            ],
            [
             0.1111111111111111,
             "#46039f"
            ],
            [
             0.2222222222222222,
             "#7201a8"
            ],
            [
             0.3333333333333333,
             "#9c179e"
            ],
            [
             0.4444444444444444,
             "#bd3786"
            ],
            [
             0.5555555555555556,
             "#d8576b"
            ],
            [
             0.6666666666666666,
             "#ed7953"
            ],
            [
             0.7777777777777778,
             "#fb9f3a"
            ],
            [
             0.8888888888888888,
             "#fdca26"
            ],
            [
             1.0,
             "#f0f921"
            ]
           ],
           "sequentialminus": [
            [
             0.0,
             "#0d0887"
            ],
            [
             0.1111111111111111,
             "#46039f"
            ],
            [
             0.2222222222222222,
             "#7201a8"
            ],
            [
             0.3333333333333333,
             "#9c179e"
            ],
            [
             0.4444444444444444,
             "#bd3786"
            ],
            [
             0.5555555555555556,
             "#d8576b"
            ],
            [
             0.6666666666666666,
             "#ed7953"
            ],
            [
             0.7777777777777778,
             "#fb9f3a"
            ],
            [
             0.8888888888888888,
             "#fdca26"
            ],
            [
             1.0,
             "#f0f921"
            ]
           ],
           "diverging": [
            [
             0,
             "#8e0152"
            ],
            [
             0.1,
             "#c51b7d"
            ],
            [
             0.2,
             "#de77ae"
            ],
            [
             0.3,
             "#f1b6da"
            ],
            [
             0.4,
             "#fde0ef"
            ],
            [
             0.5,
             "#f7f7f7"
            ],
            [
             0.6,
             "#e6f5d0"
            ],
            [
             0.7,
             "#b8e186"
            ],
            [
             0.8,
             "#7fbc41"
            ],
            [
             0.9,
             "#4d9221"
            ],
            [
             1,
             "#276419"
            ]
           ]
          },
          "xaxis": {
           "gridcolor": "white",
           "linecolor": "white",
           "ticks": "",
           "title": {
            "standoff": 15
           },
           "zerolinecolor": "white",
           "automargin": true,
           "zerolinewidth": 2
          },
          "yaxis": {
           "gridcolor": "white",
           "linecolor": "white",
           "ticks": "",
           "title": {
            "standoff": 15
           },
           "zerolinecolor": "white",
           "automargin": true,
           "zerolinewidth": 2
          },
          "scene": {
           "xaxis": {
            "backgroundcolor": "#E5ECF6",
            "gridcolor": "white",
            "linecolor": "white",
            "showbackground": true,
            "ticks": "",
            "zerolinecolor": "white",
            "gridwidth": 2
           },
           "yaxis": {
            "backgroundcolor": "#E5ECF6",
            "gridcolor": "white",
            "linecolor": "white",
            "showbackground": true,
            "ticks": "",
            "zerolinecolor": "white",
            "gridwidth": 2
           },
           "zaxis": {
            "backgroundcolor": "#E5ECF6",
            "gridcolor": "white",
            "linecolor": "white",
            "showbackground": true,
            "ticks": "",
            "zerolinecolor": "white",
            "gridwidth": 2
           }
          },
          "shapedefaults": {
           "line": {
            "color": "#2a3f5f"
           }
          },
          "annotationdefaults": {
           "arrowcolor": "#2a3f5f",
           "arrowhead": 0,
           "arrowwidth": 1
          },
          "geo": {
           "bgcolor": "white",
           "landcolor": "#E5ECF6",
           "subunitcolor": "white",
           "showland": true,
           "showlakes": true,
           "lakecolor": "white"
          },
          "title": {
           "x": 0.05
          },
          "mapbox": {
           "style": "light"
          }
         }
        },
        "xaxis": {
         "rangeslider": {
          "visible": false
         },
         "title": {
          "text": "Date"
         }
        },
        "title": {
         "text": "Google Stock Candlestick Chart 2024"
        },
        "yaxis": {
         "title": {
          "text": "Price (USD)"
         }
        }
       },
       "config": {
        "plotlyServerURL": "https://plot.ly"
       }
      },
      "text/html": [
       "<div>                            <div id=\"3dfae0a4-3a88-473a-908e-e97a707ef56a\" class=\"plotly-graph-div\" style=\"height:525px; width:100%;\"></div>            <script type=\"text/javascript\">                require([\"plotly\"], function(Plotly) {                    window.PLOTLYENV=window.PLOTLYENV || {};                                    if (document.getElementById(\"3dfae0a4-3a88-473a-908e-e97a707ef56a\")) {                    Plotly.newPlot(                        \"3dfae0a4-3a88-473a-908e-e97a707ef56a\",                        [{\"close\":[139.55999755859375,140.36000061035156,138.0399932861328,137.38999938964844,140.52999877929688,142.55999755859375,143.8000030517578,143.6699981689453,144.24000549316406,144.0800018310547,142.88999938964844,144.99000549316406,147.97000122070312,147.7100067138672,148.67999267578125,150.35000610351562,153.63999938964844,153.7899932861328,154.83999633789062,153.0500030517578,141.8000030517578,142.7100067138672,143.5399932861328,144.92999267578125,145.41000366210938,146.67999267578125,147.22000122070312,150.22000122070312,148.72999572753906,146.3699951171875,147.13999938964844,143.94000244140625,141.75999450683594,142.1999969482422,143.83999633789062,145.32000732421875,145.2899932861328,138.75,140.10000610351562,137.42999267578125,139.77999877929688,138.0800018310547,134.1999969482422,133.77999877929688,132.55999755859375,135.24000549316406,136.2899932861328,138.94000244140625,139.6199951171875,140.77000427246094,144.33999633789062,142.1699981689453,148.47999572753906,147.9199981689453,149.67999267578125,148.74000549316406,151.77000427246094,151.14999389648438,151.6999969482422,151.94000244140625,152.25999450683594,156.5,155.8699951171875,156.3699951171875,151.94000244140625,153.94000244140625,156.13999938964844,158.13999938964844,157.66000366210938,160.7899932861328,159.19000244140625,156.3300018310547,156.0,156.8800048828125,157.4600067138672,155.72000122070312,157.9499969482422,159.9199981689453,161.10000610351562,157.9499969482422,173.69000244140625,167.89999389648438,164.63999938964844,165.57000732421875,168.4600067138672,168.99000549316406,169.8300018310547,172.97999572753906,171.16000366210938,171.5800018310547,170.2899932861328,170.89999389648438,171.92999267578125,173.8800048828125,175.42999267578125,177.2899932861328,178.4600067138672,179.5399932861328,178.0,175.05999755859375,176.3300018310547,178.02000427246094,177.39999389648438,173.55999755859375,173.9600067138672,174.4199981689453,175.1300048828125,177.07000732421875,178.35000610351562,175.9499969482422,176.6300048828125,178.19000244140625,179.55999755859375,176.74000549316406,178.3699951171875,178.77999877929688,176.4499969482422,177.7100067138672,180.25999450683594,180.7899932861328,185.5800018310547,185.3699951171875,186.86000061035156,183.4199981689453,184.49000549316406,186.61000061035156,187.38999938964844,191.9600067138672,190.47999572753906,190.44000244140625,192.66000366210938,187.3000030517578,186.77999877929688,188.19000244140625,185.5,182.6199951171875,179.22000122070312,179.38999938964844,183.35000610351562,183.60000610351562,174.3699951171875,169.16000366210938,168.67999267578125,171.1300048828125,171.86000061035156,173.14999389648438,172.4499969482422,168.39999389648438,160.63999938964844,160.5399932861328,160.75,163.83999633789062,165.38999938964844,163.9499969482422,165.92999267578125,162.02999877929688,163.1699981689453,164.74000549316406,168.39999389648438,168.9600067138672,167.6300048828125,165.49000549316406,167.42999267578125,167.92999267578125,166.3800048828125,164.5,163.39999389648438,165.11000061035156,158.61000061035156,157.80999755859375,158.60000610351562,152.1300048828125,149.5399932861328,150.00999450683594,152.14999389648438,155.5399932861328,158.3699951171875,158.99000549316406,160.27999877929688,160.80999755859375,163.24000549316406,164.63999938964844,163.07000732421875,163.63999938964844,162.99000549316406,163.8300018310547,165.2899932861328,167.19000244140625,168.4199981689453,167.30999755859375,167.2100067138672,168.55999755859375,164.38999938964844,165.6999969482422,163.05999755859375,163.17999267578125,164.52000427246094,166.35000610351562,166.89999389648438,166.74000549316406,164.50999450683594,165.0500030517578,165.8000030517578,166.82000732421875,164.47999572753906,164.52999877929688,166.99000549316406,168.33999633789062,171.13999938964844,176.13999938964844,172.69000244140625,172.64999389648438,170.67999267578125,171.41000366210938,178.3300018310547,182.27999877929688,179.86000061035156,181.97000122070312,183.32000732421875,180.49000549316406,177.35000610351562,173.88999938964844,176.8000030517578,179.5800018310547,177.3300018310547,169.24000549316406,166.57000732421875,169.42999267578125,170.6199951171875,170.82000732421875,170.49000549316406,172.97999572753906,173.02000427246094],\"decreasing\":{\"line\":{\"color\":\"red\"}},\"high\":[140.61500549316406,141.08999633789062,140.63499450683594,138.80999755859375,140.63999938964844,142.8000030517578,144.52499389648438,146.66000366210938,144.74000549316406,145.83999633789062,143.41000366210938,145.5850067138672,148.0399932861328,150.01499938964844,148.86000061035156,151.57000732421875,154.75999450683594,154.11000061035156,155.1999969482422,155.0399932861328,145.58999633789062,144.6199951171875,143.8800048828125,146.6699981689453,146.74000549316406,147.0,147.61000061035156,150.69500732421875,150.58999633789062,148.0399932861328,147.8300018310547,144.75999450683594,144.47999572753906,143.32899475097656,143.97999572753906,146.1999969482422,145.9550018310547,143.83999633789062,140.49000549316406,139.27999877929688,139.9499969482422,140.0,136.6300048828125,134.02000427246094,134.74000549316406,135.82000732421875,138.98500061035156,139.97999572753906,140.27999877929688,142.19000244140625,144.72999572753906,144.33999633789062,152.92999267578125,149.6199951171875,149.75999450683594,151.30499267578125,152.55999755859375,151.45599365234375,153.1999969482422,152.69000244140625,152.6699981689453,157.0,155.99000549316406,156.5500030517578,156.17999267578125,154.83999633789062,156.65499877929688,159.88999938964844,158.16000366210938,161.1199951171875,161.6999969482422,160.8300018310547,157.22999572753906,158.68099975585938,158.48500061035156,157.99000549316406,159.18499755859375,160.47999572753906,161.38999938964844,158.27999877929688,176.4199981689453,171.3800048828125,169.8699951171875,168.80999755859375,168.52999877929688,169.85000610351562,169.89999389648438,173.47000122070312,171.90899658203125,172.44000244140625,171.33999633789062,170.9499969482422,172.77999877929688,174.04600524902344,176.33999633789062,177.4949951171875,179.9499969482422,179.82000732421875,178.8520050048828,179.91000366210938,177.3040008544922,178.50999450683594,178.22999572753906,176.69000244140625,174.4199981689453,175.86000061035156,175.19000244140625,177.97000122070312,178.7100067138672,179.4199981689453,178.47000122070312,178.38999938964844,182.0800018310547,178.50999450683594,178.72999572753906,179.9199981689453,178.91000366210938,178.74000549316406,182.51199340820312,182.0800018310547,185.75,185.92999267578125,187.5,186.5800018310547,185.33999633789062,186.9499969482422,187.6199951171875,192.25999450683594,191.6790008544922,192.86000061035156,193.30999755859375,192.41000366210938,188.69000244140625,189.89999389648438,190.33999633789062,185.22999572753906,184.0500030517578,181.97000122070312,184.3000030517578,185.22000122070312,177.9499969482422,175.1999969482422,169.83999633789062,172.16000366210938,172.9499969482422,175.91000366210938,175.67999267578125,170.2100067138672,165.94000244140625,162.35000610351562,164.7899932861328,165.5,165.52000427246094,166.6999969482422,166.5399932861328,164.9600067138672,163.52000427246094,166.9499969482422,168.47000122070312,170.41000366210938,168.63999938964844,169.4199981689453,167.9499969482422,169.3800048828125,168.2449951171875,167.38999938964844,167.6300048828125,165.27999877929688,163.3800048828125,160.39999389648438,161.01499938964844,159.22000122070312,154.63999938964844,152.3000030517578,152.47999572753906,155.61000061035156,159.27499389648438,159.24000549316406,161.58999633789062,161.6300048828125,164.99000549316406,164.75,166.61000061035156,164.5500030517578,164.2169952392578,165.5,166.97000122070312,167.36000061035156,170.44000244140625,168.8800048828125,167.91000366210938,169.5500030517578,169.89999389648438,166.10000610351562,166.25999450683594,164.31100463867188,165.27000427246094,167.6199951171875,169.08999633789062,167.27999877929688,167.92999267578125,166.3699951171875,166.22000122070312,167.47000122070312,167.60000610351562,165.0500030517578,167.39999389648438,170.6060028076172,171.86000061035156,183.7899932861328,178.4199981689453,173.82000732421875,171.9199981689453,172.0970001220703,178.63999938964844,182.5800018310547,182.35000610351562,182.0850067138672,184.02499389648438,182.61500549316406,180.44500732421875,175.8800048828125,176.91000366210938,180.1699981689453,179.11000061035156,175.5800018310547,168.26499938964844,170.4600067138672,171.4949951171875,171.13999938964844,170.8699951171875,173.60000610351562,174.32000732421875],\"increasing\":{\"line\":{\"color\":\"green\"}},\"low\":[137.74000549316406,138.42999267578125,138.00999450683594,136.85000610351562,137.8800048828125,139.7899932861328,142.4600067138672,142.21499633789062,143.36000061035156,143.05599975585938,140.50999450683594,143.35000610351562,145.8000030517578,147.5800018310547,147.19000244140625,149.83999633789062,151.22000122070312,152.8000030517578,152.9199981689453,152.77499389648438,141.5500030517578,142.25999450683594,138.1699981689453,143.91000366210938,144.52000427246094,145.2100067138672,146.4199981689453,147.42999267578125,148.55999755859375,145.11000061035156,145.55499267578125,141.8800048828125,141.52000427246094,140.8000030517578,141.91000366210938,144.00999450683594,144.7899932861328,138.74000549316406,138.5,136.63999938964844,137.57000732421875,137.97500610351562,132.86000061035156,131.5500030517578,131.9499969482422,132.66000366210938,134.8000030517578,137.07000732421875,138.2100067138672,140.00999450683594,141.48500061035156,141.1300048828125,148.13999938964844,147.00999450683594,147.6649932861328,148.00999450683594,150.08999633789062,148.8000030517578,151.02999877929688,150.1300048828125,151.3300018310547,151.64999389648438,153.4600067138672,154.1320037841797,151.8800048828125,151.08099365234375,153.99000549316406,156.63999938964844,156.1999969482422,157.92999267578125,158.60000610351562,156.14999389648438,155.0500030517578,156.13499450683594,156.2100067138672,153.91000366210938,155.66000366210938,157.96499633789062,158.82000732421875,152.76800537109375,171.39999389648438,167.05999755859375,164.5,164.89999389648438,165.69000244140625,164.97999572753906,167.88999938964844,170.0,170.52200317382812,169.92999267578125,167.91000366210938,165.75999450683594,170.4199981689453,172.02999877929688,174.0500030517578,174.97999572753906,177.22500610351562,177.30999755859375,176.77999877929688,174.5399932861328,175.1999969482422,175.67999267578125,176.25999450683594,173.22999572753906,170.97000122070312,172.4499969482422,173.22000122070312,175.2899932861328,177.2100067138672,175.7899932861328,174.3800048828125,175.44000244140625,177.77999877929688,176.66000366210938,175.8520050048828,176.49000549316406,175.6199951171875,176.4600067138672,178.05999755859375,180.22999572753906,181.10499572753906,183.99000549316406,185.4499969482422,183.3249969482422,182.72999572753906,183.05999755859375,185.38499450683594,187.32000732421875,189.32000732421875,190.22999572753906,190.6199951171875,186.82000732421875,186.13999938964844,186.49000549316406,185.1199951171875,181.6199951171875,178.2100067138672,178.86000061035156,181.89999389648438,183.3300018310547,173.57000732421875,169.0500030517578,165.86500549316406,169.72000122070312,170.1199951171875,171.72000122070312,170.50999450683594,166.38999938964844,156.60000610351562,158.1300048828125,160.24000549316406,162.02999877929688,160.92999267578125,163.5500030517578,164.77000427246094,159.52999877929688,161.49000549316406,163.0800018310547,166.08999633789062,168.66000366210938,166.57000732421875,165.02999877929688,165.66000366210938,166.32000732421875,166.16000366210938,163.27999877929688,161.98199462890625,163.41000366210938,157.85499572753906,157.44000244140625,157.52000427246094,151.93499755859375,148.1999969482422,149.54299926757812,148.6999969482422,153.5,156.11000061035156,157.61000061035156,159.41000366210938,159.66000366210938,162.52200317382812,163.17999267578125,162.9499969482422,162.02999877929688,162.77499389648438,163.5,163.8300018310547,164.63999938964844,165.89999389648438,166.25,165.3699951171875,166.9600067138672,164.1300048828125,164.30999755859375,161.1199951171875,161.63999938964844,162.5,164.77999877929688,166.0500030517578,165.21600341796875,164.3699951171875,164.75,164.30499267578125,164.6699981689453,163.63299560546875,162.77000427246094,165.22999572753906,165.7899932861328,168.66000366210938,175.7449951171875,172.55999755859375,170.30999755859375,169.48500061035156,170.3699951171875,175.0399932861328,178.88999938964844,179.57000732421875,179.99000549316406,180.99000549316406,180.1199951171875,176.02999877929688,172.7449951171875,174.4199981689453,175.11599731445312,175.3300018310547,165.30999755859375,165.7100067138672,167.39999389648438,169.42999267578125,169.6699981689453,168.75,170.27000427246094,172.50999450683594],\"open\":[139.60000610351562,138.60000610351562,139.85000610351562,138.3520050048828,138.0,140.05999755859375,142.52000427246094,144.89500427246094,144.33999633789062,143.42999267578125,142.91000366210938,143.44000244140625,146.30499267578125,148.7100067138672,147.72000122070312,150.2899932861328,151.74000549316406,152.8699951171875,153.63999938964844,154.00999450683594,145.38999938964844,143.69000244140625,140.88999938964844,144.0399932861328,145.9600067138672,146.1199951171875,146.97000122070312,147.9499969482422,149.5399932861328,146.07000732421875,147.3699951171875,144.4600067138672,144.2100067138672,140.94000244140625,142.63999938964844,146.1199951171875,144.97000122070312,143.4499969482422,139.41000366210938,139.10000610351562,138.35000610351562,139.61000061035156,136.5399932861328,132.74000549316406,134.24000549316406,133.88999938964844,135.03500366210938,137.07000732421875,138.25,140.05999755859375,142.3000030517578,143.41000366210938,149.3699951171875,148.97999572753906,148.7899932861328,150.32000732421875,150.24000549316406,150.9499969482422,151.24000549316406,152.14500427246094,152.0,151.8300018310547,154.75,154.9199981689453,155.0800018310547,151.67999267578125,154.01499938964844,157.35000610351562,157.8800048828125,158.33999633789062,159.40499877929688,160.27999877929688,155.63999938964844,157.19000244140625,156.9250030517578,157.75,156.00999450683594,158.58999633789062,159.08999633789062,153.36000061035156,175.99000549316406,170.77000427246094,167.3800048828125,166.17999267578125,166.6699981689453,169.5399932861328,169.22000122070312,170.1199951171875,170.75,171.14999389648438,169.69000244140625,165.8470001220703,171.58999633789062,172.3000030517578,174.60000610351562,175.5500030517578,177.30999755859375,178.39999389648438,178.39999389648438,178.77999877929688,176.52000427246094,175.74000549316406,176.80999755859375,176.69000244140625,173.39999389648438,173.8800048828125,174.4499969482422,176.53500366210938,177.42999267578125,178.4600067138672,176.4499969482422,177.72000122070312,179.75,177.83999633789062,175.8520050048828,176.97999572753906,178.7899932861328,176.7100067138672,178.49000549316406,181.27999877929688,181.14500427246094,184.1999969482422,185.64500427246094,185.72000122070312,184.47999572753906,183.47000122070312,186.3000030517578,187.32000732421875,191.36500549316406,191.75,190.75,191.33999633789062,186.9199981689453,186.49000549316406,188.9600067138672,184.67999267578125,183.5399932861328,180.3699951171875,182.35000610351562,183.83999633789062,175.38999938964844,174.25,168.77000427246094,170.5,171.8300018310547,174.9199981689453,171.97999572753906,168.19000244140625,157.3699951171875,160.94500732421875,163.24000549316406,162.343994140625,161.64500427246094,165.9949951171875,165.18499755859375,164.2100067138672,162.2100067138672,163.41000366210938,167.0,168.74000549316406,166.99000549316406,169.0399932861328,166.5500030517578,168.15499877929688,167.61000061035156,166.77999877929688,166.05999755859375,164.22000122070312,163.31500244140625,158.0749969482422,157.77999877929688,158.69000244140625,153.6300048828125,151.4499969482422,151.08999633789062,154.80999755859375,156.36199951171875,158.3300018310547,160.08999633789062,160.85000610351562,164.82000732421875,164.52000427246094,165.33999633789062,164.25,162.97000122070312,165.02999877929688,163.91000366210938,164.77999877929688,168.86000061035156,167.75999450683594,165.82000732421875,169.33999633789062,169.13999938964844,165.42999267578125,164.85499572753906,162.11000061035156,163.3300018310547,164.91000366210938,167.13999938964844,166.02999877929688,167.3800048828125,164.8699951171875,164.5800018310547,164.6999969482422,166.42999267578125,164.58999633789062,165.36500549316406,170.58999633789062,169.38499450683594,182.41000366210938,174.72000122070312,171.5399932861328,171.24000549316406,170.8300018310547,175.35000610351562,179.11000061035156,182.0,180.07000732421875,181.3800048828125,182.14999389648438,179.75,175.63999938964844,174.9550018310547,175.23500061035156,178.8300018310547,175.4550018310547,167.16000366210938,167.99000549316406,169.49000549316406,170.67999267578125,170.05999755859375,170.32000732421875,173.1199951171875],\"x\":[1,2,3,4,5,6,7,8,9,10,11,12,13,14,15,16,17,18,19,20,21,22,23,24,25,26,27,28,29,30,31,32,33,34,35,36,37,38,39,40,41,42,43,44,45,46,47,48,49,50,51,52,53,54,55,56,57,58,59,60,61,62,63,64,65,66,67,68,69,70,71,72,73,74,75,76,77,78,79,80,81,82,83,84,85,86,87,88,89,90,91,92,93,94,95,96,97,98,99,100,101,102,103,104,105,106,107,108,109,110,111,112,113,114,115,116,117,118,119,120,121,122,123,124,125,126,127,128,129,130,131,132,133,134,135,136,137,138,139,140,141,142,143,144,145,146,147,148,149,150,151,152,153,154,155,156,157,158,159,160,161,162,163,164,165,166,167,168,169,170,171,172,173,174,175,176,177,178,179,180,181,182,183,184,185,186,187,188,189,190,191,192,193,194,195,196,197,198,199,200,201,202,203,204,205,206,207,208,209,210,211,212,213,214,215,216,217,218,219,220,221,222,223,224,225,226,227,228,229,230,231,232,233],\"type\":\"candlestick\"},{\"line\":{\"color\":\"orange\",\"width\":1.5},\"mode\":\"lines\",\"name\":\"50-Day SMA\",\"x\":[1,2,3,4,5,6,7,8,9,10,11,12,13,14,15,16,17,18,19,20,21,22,23,24,25,26,27,28,29,30,31,32,33,34,35,36,37,38,39,40,41,42,43,44,45,46,47,48,49,50,51,52,53,54,55,56,57,58,59,60,61,62,63,64,65,66,67,68,69,70,71,72,73,74,75,76,77,78,79,80,81,82,83,84,85,86,87,88,89,90,91,92,93,94,95,96,97,98,99,100,101,102,103,104,105,106,107,108,109,110,111,112,113,114,115,116,117,118,119,120,121,122,123,124,125,126,127,128,129,130,131,132,133,134,135,136,137,138,139,140,141,142,143,144,145,146,147,148,149,150,151,152,153,154,155,156,157,158,159,160,161,162,163,164,165,166,167,168,169,170,171,172,173,174,175,176,177,178,179,180,181,182,183,184,185,186,187,188,189,190,191,192,193,194,195,196,197,198,199,200,201,202,203,204,205,206,207,208,209,210,211,212,213,214,215,216,217,218,219,220,221,222,223,224,225,226,227,228,229,230,231,232,233],\"y\":[null,null,null,null,null,null,null,null,null,null,null,null,null,null,null,null,null,null,null,null,null,null,null,null,null,null,null,null,null,null,null,null,null,null,null,null,null,null,null,null,null,null,null,null,null,null,null,null,null,143.29559936523438,143.39119934082032,143.42739929199217,143.63619934082033,143.84679931640625,144.02979919433594,144.15339935302734,144.3127993774414,144.4623992919922,144.61159912109375,144.76879913330077,144.95619903564454,145.18639892578125,145.34439880371093,145.51759857177734,145.58279876708986,145.65459869384765,145.70459869384766,145.79159881591798,145.84799896240236,146.00279876708984,146.3505987548828,146.62299865722656,146.8721987915039,147.11119903564452,147.3521990966797,147.53299926757813,147.7475991821289,147.94159912109376,148.18899932861328,148.42059936523438,148.95159942626952,149.43079925537108,149.88839935302735,150.35579956054687,150.8481997680664,151.3215997314453,151.81239990234374,152.49699981689454,153.1181997680664,153.80119995117187,154.4113998413086,155.0677996826172,155.82239959716796,156.62439971923828,157.48179962158204,158.3227993774414,159.1661996459961,159.97819946289061,160.74579956054689,161.43159942626954,162.07139953613282,162.78839965820313,163.36679962158203,163.879599609375,164.36519989013672,164.87879974365234,165.34599975585937,165.86440002441407,166.39740020751952,166.87760009765626,167.36500030517578,167.7988003540039,168.27260040283204,168.68000061035156,169.20860046386719,169.705400390625,170.11160034179687,170.50300048828126,170.9550003051758,171.3550003051758,171.88280029296874,172.4636001586914,173.08080017089844,173.6116000366211,174.15220001220703,174.77,175.35880004882813,175.99960021972657,176.58720001220703,177.2370001220703,177.61640014648438,178.00440032958986,178.44720031738282,178.89960021972655,179.2404000854492,179.5129998779297,179.70079986572264,179.82899993896484,180.07279998779296,180.3132000732422,180.39480010986327,180.3600003051758,180.2950003051758,180.24000030517578,180.1686004638672,180.0858004760742,179.96560028076172,179.74280029296875,179.39560028076173,179.1052001953125,178.79360015869142,178.51,178.26980010986327,178.07760009765624,177.91699981689453,177.66919982910156,177.42999969482423,177.18339965820311,176.9843994140625,176.844599609375,176.664599609375,176.41059967041016,176.1679995727539,175.99179931640626,175.75199951171874,175.46639953613283,175.20539947509766,174.95339935302735,174.52039947509766,174.06079956054688,173.5211996459961,172.8563998413086,172.1099996948242,171.44179962158202,170.79499938964844,170.17359924316406,169.59319915771485,168.9337991333008,168.32979919433595,167.7371990966797,167.14879913330077,166.69559906005858,166.22139923095702,165.73039916992187,165.28019927978517,164.9043994140625,164.6257992553711,164.38179931640624,164.08319915771483,163.7573989868164,163.61419921875,163.6021990966797,163.51639923095703,163.40779907226562,163.23179901123046,163.03239898681642,162.8737991333008,162.8327993774414,162.95799926757812,163.08199951171875,163.15719940185548,163.1813995361328,163.189599609375,163.24699981689454,163.21799987792969,163.2679998779297,163.34440002441406,163.4163998413086,163.47119995117188,163.6147998046875,163.71599975585937,163.85919952392578,163.92419952392578,163.99379974365235,164.23279968261718,164.58839965820312,164.91759979248047,165.2547998046875,165.74899993896486,166.20260009765624,166.57760009765624,167.01279998779296,167.55800018310546,168.14940032958984,168.65300048828124,168.92700073242187,169.0910009765625,169.29980072021485,169.50660064697266,169.70680084228516,169.85180084228514,170.01860076904296,170.2176007080078],\"type\":\"scatter\"},{\"line\":{\"color\":\"green\",\"width\":1.5},\"mode\":\"lines\",\"name\":\"200-Day SMA\",\"x\":[1,2,3,4,5,6,7,8,9,10,11,12,13,14,15,16,17,18,19,20,21,22,23,24,25,26,27,28,29,30,31,32,33,34,35,36,37,38,39,40,41,42,43,44,45,46,47,48,49,50,51,52,53,54,55,56,57,58,59,60,61,62,63,64,65,66,67,68,69,70,71,72,73,74,75,76,77,78,79,80,81,82,83,84,85,86,87,88,89,90,91,92,93,94,95,96,97,98,99,100,101,102,103,104,105,106,107,108,109,110,111,112,113,114,115,116,117,118,119,120,121,122,123,124,125,126,127,128,129,130,131,132,133,134,135,136,137,138,139,140,141,142,143,144,145,146,147,148,149,150,151,152,153,154,155,156,157,158,159,160,161,162,163,164,165,166,167,168,169,170,171,172,173,174,175,176,177,178,179,180,181,182,183,184,185,186,187,188,189,190,191,192,193,194,195,196,197,198,199,200,201,202,203,204,205,206,207,208,209,210,211,212,213,214,215,216,217,218,219,220,221,222,223,224,225,226,227,228,229,230,231,232,233],\"y\":[null,null,null,null,null,null,null,null,null,null,null,null,null,null,null,null,null,null,null,null,null,null,null,null,null,null,null,null,null,null,null,null,null,null,null,null,null,null,null,null,null,null,null,null,null,null,null,null,null,null,null,null,null,null,null,null,null,null,null,null,null,null,null,null,null,null,null,null,null,null,null,null,null,null,null,null,null,null,null,null,null,null,null,null,null,null,null,null,null,null,null,null,null,null,null,null,null,null,null,null,null,null,null,null,null,null,null,null,null,null,null,null,null,null,null,null,null,null,null,null,null,null,null,null,null,null,null,null,null,null,null,null,null,null,null,null,null,null,null,null,null,null,null,null,null,null,null,null,null,null,null,null,null,null,null,null,null,null,null,null,null,null,null,null,null,null,null,null,null,null,null,null,null,null,null,null,null,null,null,null,null,null,null,null,null,null,null,null,null,null,null,null,null,null,null,null,null,null,null,161.7285996246338,161.853349609375,161.97679962158202,162.11559967041015,162.262749710083,162.38249969482422,162.49234970092775,162.60829971313476,162.73164970397949,162.8661496734619,163.02644966125487,163.17544967651367,163.31374961853027,163.42729957580568,163.54579956054687,163.69404960632323,163.85369956970214,163.98479957580565,164.1256996154785,164.26809967041015,164.4052996826172,164.58304969787596,164.73894966125488,164.905249710083,165.07849975585938,165.2380997467041,165.35089981079102,165.4476498413086,165.543699798584,165.65314979553222,165.7753998565674,165.89214988708497,166.03734985351562,166.19364990234374],\"type\":\"scatter\"}],                        {\"template\":{\"data\":{\"histogram2dcontour\":[{\"type\":\"histogram2dcontour\",\"colorbar\":{\"outlinewidth\":0,\"ticks\":\"\"},\"colorscale\":[[0.0,\"#0d0887\"],[0.1111111111111111,\"#46039f\"],[0.2222222222222222,\"#7201a8\"],[0.3333333333333333,\"#9c179e\"],[0.4444444444444444,\"#bd3786\"],[0.5555555555555556,\"#d8576b\"],[0.6666666666666666,\"#ed7953\"],[0.7777777777777778,\"#fb9f3a\"],[0.8888888888888888,\"#fdca26\"],[1.0,\"#f0f921\"]]}],\"choropleth\":[{\"type\":\"choropleth\",\"colorbar\":{\"outlinewidth\":0,\"ticks\":\"\"}}],\"histogram2d\":[{\"type\":\"histogram2d\",\"colorbar\":{\"outlinewidth\":0,\"ticks\":\"\"},\"colorscale\":[[0.0,\"#0d0887\"],[0.1111111111111111,\"#46039f\"],[0.2222222222222222,\"#7201a8\"],[0.3333333333333333,\"#9c179e\"],[0.4444444444444444,\"#bd3786\"],[0.5555555555555556,\"#d8576b\"],[0.6666666666666666,\"#ed7953\"],[0.7777777777777778,\"#fb9f3a\"],[0.8888888888888888,\"#fdca26\"],[1.0,\"#f0f921\"]]}],\"heatmap\":[{\"type\":\"heatmap\",\"colorbar\":{\"outlinewidth\":0,\"ticks\":\"\"},\"colorscale\":[[0.0,\"#0d0887\"],[0.1111111111111111,\"#46039f\"],[0.2222222222222222,\"#7201a8\"],[0.3333333333333333,\"#9c179e\"],[0.4444444444444444,\"#bd3786\"],[0.5555555555555556,\"#d8576b\"],[0.6666666666666666,\"#ed7953\"],[0.7777777777777778,\"#fb9f3a\"],[0.8888888888888888,\"#fdca26\"],[1.0,\"#f0f921\"]]}],\"heatmapgl\":[{\"type\":\"heatmapgl\",\"colorbar\":{\"outlinewidth\":0,\"ticks\":\"\"},\"colorscale\":[[0.0,\"#0d0887\"],[0.1111111111111111,\"#46039f\"],[0.2222222222222222,\"#7201a8\"],[0.3333333333333333,\"#9c179e\"],[0.4444444444444444,\"#bd3786\"],[0.5555555555555556,\"#d8576b\"],[0.6666666666666666,\"#ed7953\"],[0.7777777777777778,\"#fb9f3a\"],[0.8888888888888888,\"#fdca26\"],[1.0,\"#f0f921\"]]}],\"contourcarpet\":[{\"type\":\"contourcarpet\",\"colorbar\":{\"outlinewidth\":0,\"ticks\":\"\"}}],\"contour\":[{\"type\":\"contour\",\"colorbar\":{\"outlinewidth\":0,\"ticks\":\"\"},\"colorscale\":[[0.0,\"#0d0887\"],[0.1111111111111111,\"#46039f\"],[0.2222222222222222,\"#7201a8\"],[0.3333333333333333,\"#9c179e\"],[0.4444444444444444,\"#bd3786\"],[0.5555555555555556,\"#d8576b\"],[0.6666666666666666,\"#ed7953\"],[0.7777777777777778,\"#fb9f3a\"],[0.8888888888888888,\"#fdca26\"],[1.0,\"#f0f921\"]]}],\"surface\":[{\"type\":\"surface\",\"colorbar\":{\"outlinewidth\":0,\"ticks\":\"\"},\"colorscale\":[[0.0,\"#0d0887\"],[0.1111111111111111,\"#46039f\"],[0.2222222222222222,\"#7201a8\"],[0.3333333333333333,\"#9c179e\"],[0.4444444444444444,\"#bd3786\"],[0.5555555555555556,\"#d8576b\"],[0.6666666666666666,\"#ed7953\"],[0.7777777777777778,\"#fb9f3a\"],[0.8888888888888888,\"#fdca26\"],[1.0,\"#f0f921\"]]}],\"mesh3d\":[{\"type\":\"mesh3d\",\"colorbar\":{\"outlinewidth\":0,\"ticks\":\"\"}}],\"scatter\":[{\"fillpattern\":{\"fillmode\":\"overlay\",\"size\":10,\"solidity\":0.2},\"type\":\"scatter\"}],\"parcoords\":[{\"type\":\"parcoords\",\"line\":{\"colorbar\":{\"outlinewidth\":0,\"ticks\":\"\"}}}],\"scatterpolargl\":[{\"type\":\"scatterpolargl\",\"marker\":{\"colorbar\":{\"outlinewidth\":0,\"ticks\":\"\"}}}],\"bar\":[{\"error_x\":{\"color\":\"#2a3f5f\"},\"error_y\":{\"color\":\"#2a3f5f\"},\"marker\":{\"line\":{\"color\":\"#E5ECF6\",\"width\":0.5},\"pattern\":{\"fillmode\":\"overlay\",\"size\":10,\"solidity\":0.2}},\"type\":\"bar\"}],\"scattergeo\":[{\"type\":\"scattergeo\",\"marker\":{\"colorbar\":{\"outlinewidth\":0,\"ticks\":\"\"}}}],\"scatterpolar\":[{\"type\":\"scatterpolar\",\"marker\":{\"colorbar\":{\"outlinewidth\":0,\"ticks\":\"\"}}}],\"histogram\":[{\"marker\":{\"pattern\":{\"fillmode\":\"overlay\",\"size\":10,\"solidity\":0.2}},\"type\":\"histogram\"}],\"scattergl\":[{\"type\":\"scattergl\",\"marker\":{\"colorbar\":{\"outlinewidth\":0,\"ticks\":\"\"}}}],\"scatter3d\":[{\"type\":\"scatter3d\",\"line\":{\"colorbar\":{\"outlinewidth\":0,\"ticks\":\"\"}},\"marker\":{\"colorbar\":{\"outlinewidth\":0,\"ticks\":\"\"}}}],\"scattermapbox\":[{\"type\":\"scattermapbox\",\"marker\":{\"colorbar\":{\"outlinewidth\":0,\"ticks\":\"\"}}}],\"scatterternary\":[{\"type\":\"scatterternary\",\"marker\":{\"colorbar\":{\"outlinewidth\":0,\"ticks\":\"\"}}}],\"scattercarpet\":[{\"type\":\"scattercarpet\",\"marker\":{\"colorbar\":{\"outlinewidth\":0,\"ticks\":\"\"}}}],\"carpet\":[{\"aaxis\":{\"endlinecolor\":\"#2a3f5f\",\"gridcolor\":\"white\",\"linecolor\":\"white\",\"minorgridcolor\":\"white\",\"startlinecolor\":\"#2a3f5f\"},\"baxis\":{\"endlinecolor\":\"#2a3f5f\",\"gridcolor\":\"white\",\"linecolor\":\"white\",\"minorgridcolor\":\"white\",\"startlinecolor\":\"#2a3f5f\"},\"type\":\"carpet\"}],\"table\":[{\"cells\":{\"fill\":{\"color\":\"#EBF0F8\"},\"line\":{\"color\":\"white\"}},\"header\":{\"fill\":{\"color\":\"#C8D4E3\"},\"line\":{\"color\":\"white\"}},\"type\":\"table\"}],\"barpolar\":[{\"marker\":{\"line\":{\"color\":\"#E5ECF6\",\"width\":0.5},\"pattern\":{\"fillmode\":\"overlay\",\"size\":10,\"solidity\":0.2}},\"type\":\"barpolar\"}],\"pie\":[{\"automargin\":true,\"type\":\"pie\"}]},\"layout\":{\"autotypenumbers\":\"strict\",\"colorway\":[\"#636efa\",\"#EF553B\",\"#00cc96\",\"#ab63fa\",\"#FFA15A\",\"#19d3f3\",\"#FF6692\",\"#B6E880\",\"#FF97FF\",\"#FECB52\"],\"font\":{\"color\":\"#2a3f5f\"},\"hovermode\":\"closest\",\"hoverlabel\":{\"align\":\"left\"},\"paper_bgcolor\":\"white\",\"plot_bgcolor\":\"#E5ECF6\",\"polar\":{\"bgcolor\":\"#E5ECF6\",\"angularaxis\":{\"gridcolor\":\"white\",\"linecolor\":\"white\",\"ticks\":\"\"},\"radialaxis\":{\"gridcolor\":\"white\",\"linecolor\":\"white\",\"ticks\":\"\"}},\"ternary\":{\"bgcolor\":\"#E5ECF6\",\"aaxis\":{\"gridcolor\":\"white\",\"linecolor\":\"white\",\"ticks\":\"\"},\"baxis\":{\"gridcolor\":\"white\",\"linecolor\":\"white\",\"ticks\":\"\"},\"caxis\":{\"gridcolor\":\"white\",\"linecolor\":\"white\",\"ticks\":\"\"}},\"coloraxis\":{\"colorbar\":{\"outlinewidth\":0,\"ticks\":\"\"}},\"colorscale\":{\"sequential\":[[0.0,\"#0d0887\"],[0.1111111111111111,\"#46039f\"],[0.2222222222222222,\"#7201a8\"],[0.3333333333333333,\"#9c179e\"],[0.4444444444444444,\"#bd3786\"],[0.5555555555555556,\"#d8576b\"],[0.6666666666666666,\"#ed7953\"],[0.7777777777777778,\"#fb9f3a\"],[0.8888888888888888,\"#fdca26\"],[1.0,\"#f0f921\"]],\"sequentialminus\":[[0.0,\"#0d0887\"],[0.1111111111111111,\"#46039f\"],[0.2222222222222222,\"#7201a8\"],[0.3333333333333333,\"#9c179e\"],[0.4444444444444444,\"#bd3786\"],[0.5555555555555556,\"#d8576b\"],[0.6666666666666666,\"#ed7953\"],[0.7777777777777778,\"#fb9f3a\"],[0.8888888888888888,\"#fdca26\"],[1.0,\"#f0f921\"]],\"diverging\":[[0,\"#8e0152\"],[0.1,\"#c51b7d\"],[0.2,\"#de77ae\"],[0.3,\"#f1b6da\"],[0.4,\"#fde0ef\"],[0.5,\"#f7f7f7\"],[0.6,\"#e6f5d0\"],[0.7,\"#b8e186\"],[0.8,\"#7fbc41\"],[0.9,\"#4d9221\"],[1,\"#276419\"]]},\"xaxis\":{\"gridcolor\":\"white\",\"linecolor\":\"white\",\"ticks\":\"\",\"title\":{\"standoff\":15},\"zerolinecolor\":\"white\",\"automargin\":true,\"zerolinewidth\":2},\"yaxis\":{\"gridcolor\":\"white\",\"linecolor\":\"white\",\"ticks\":\"\",\"title\":{\"standoff\":15},\"zerolinecolor\":\"white\",\"automargin\":true,\"zerolinewidth\":2},\"scene\":{\"xaxis\":{\"backgroundcolor\":\"#E5ECF6\",\"gridcolor\":\"white\",\"linecolor\":\"white\",\"showbackground\":true,\"ticks\":\"\",\"zerolinecolor\":\"white\",\"gridwidth\":2},\"yaxis\":{\"backgroundcolor\":\"#E5ECF6\",\"gridcolor\":\"white\",\"linecolor\":\"white\",\"showbackground\":true,\"ticks\":\"\",\"zerolinecolor\":\"white\",\"gridwidth\":2},\"zaxis\":{\"backgroundcolor\":\"#E5ECF6\",\"gridcolor\":\"white\",\"linecolor\":\"white\",\"showbackground\":true,\"ticks\":\"\",\"zerolinecolor\":\"white\",\"gridwidth\":2}},\"shapedefaults\":{\"line\":{\"color\":\"#2a3f5f\"}},\"annotationdefaults\":{\"arrowcolor\":\"#2a3f5f\",\"arrowhead\":0,\"arrowwidth\":1},\"geo\":{\"bgcolor\":\"white\",\"landcolor\":\"#E5ECF6\",\"subunitcolor\":\"white\",\"showland\":true,\"showlakes\":true,\"lakecolor\":\"white\"},\"title\":{\"x\":0.05},\"mapbox\":{\"style\":\"light\"}}},\"xaxis\":{\"rangeslider\":{\"visible\":false},\"title\":{\"text\":\"Date\"}},\"title\":{\"text\":\"Google Stock Candlestick Chart 2024\"},\"yaxis\":{\"title\":{\"text\":\"Price (USD)\"}}},                        {\"responsive\": true}                    ).then(function(){\n",
       "                            \n",
       "var gd = document.getElementById('3dfae0a4-3a88-473a-908e-e97a707ef56a');\n",
       "var x = new MutationObserver(function (mutations, observer) {{\n",
       "        var display = window.getComputedStyle(gd).display;\n",
       "        if (!display || display === 'none') {{\n",
       "            console.log([gd, 'removed!']);\n",
       "            Plotly.purge(gd);\n",
       "            observer.disconnect();\n",
       "        }}\n",
       "}});\n",
       "\n",
       "// Listen for the removal of the full notebook cells\n",
       "var notebookContainer = gd.closest('#notebook-container');\n",
       "if (notebookContainer) {{\n",
       "    x.observe(notebookContainer, {childList: true});\n",
       "}}\n",
       "\n",
       "// Listen for the clearing of the current output cell\n",
       "var outputEl = gd.closest('.output');\n",
       "if (outputEl) {{\n",
       "    x.observe(outputEl, {childList: true});\n",
       "}}\n",
       "\n",
       "                        })                };                });            </script>        </div>"
      ]
     },
     "metadata": {},
     "output_type": "display_data"
    }
   ],
   "execution_count": 55
  },
  {
   "metadata": {
    "ExecuteTime": {
     "end_time": "2024-12-24T07:23:52.190769Z",
     "start_time": "2024-12-24T07:23:51.816557Z"
    }
   },
   "cell_type": "code",
   "source": [
    "fig, ax1 = plt.subplots(figsize=(10, 6))\n",
    "\n",
    "# Plot the stock price (line chart)\n",
    "ax1.plot(df['Price'], df['Close'], color='blue', label='Closing Price')\n",
    "ax1.set_xlabel('Date')  # Label reflects the datetime on x-axis\n",
    "ax1.set_ylabel('Price (USD)', color='blue')\n",
    "ax1.tick_params(axis='y', labelcolor='blue')\n",
    "\n",
    "# Create a secondary axis for volume\n",
    "ax2 = ax1.twinx()\n",
    "ax2.bar(df['Price'], df['Volume'], color='green', alpha=0.3, label='Volume')\n",
    "ax2.set_ylabel('Volume', color='green')\n",
    "ax2.tick_params(axis='y', labelcolor='green')\n",
    "\n",
    "# Add a title and legend\n",
    "fig.suptitle('Google Stock: Price vs. Volume', fontsize=14)\n",
    "ax1.legend(loc='upper left')\n",
    "ax2.legend(loc='upper right')\n",
    "\n",
    "plt.show()"
   ],
   "id": "77e2f4fb90ab3cd2",
   "outputs": [
    {
     "data": {
      "text/plain": [
       "<Figure size 1000x600 with 2 Axes>"
      ],
      "image/png": "[encoded data removed]"
     },
     "metadata": {},
     "output_type": "display_data"
    }
   ],
   "execution_count": 46
  },
  {
   "metadata": {},
   "cell_type": "markdown",
   "source": "",
   "id": "bbfdea10fd59ecf"
  }
 ],
 "metadata": {
  "kernelspec": {
   "display_name": "Python 3 (ipykernel)",
   "language": "python",
   "name": "python3"
  },
  "language_info": {
   "codemirror_mode": {
    "name": "ipython",
    "version": 3
   },
   "file_extension": ".py",
   "mimetype": "text/x-python",
   "name": "python",
   "nbconvert_exporter": "python",
   "pygments_lexer": "ipython3",
   "version": "3.13.1"
  }
 },
 "nbformat": 4,
 "nbformat_minor": 5
}
