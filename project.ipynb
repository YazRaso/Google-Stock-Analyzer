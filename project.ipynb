{
 "cells": [
  {
   "cell_type": "code",
   "id": "11ea8927-e3f3-46f1-9736-e13e629bb2e9",
   "metadata": {
    "ExecuteTime": {
     "end_time": "2024-12-23T08:10:21.192636Z",
     "start_time": "2024-12-23T08:10:21.188018Z"
    }
   },
   "source": [
    "# Import modules\n",
    "import pandas as pd\n",
    "import numpy as np\n",
    "import math\n",
    "\n",
    "from main import maximum_draw_down"
   ],
   "outputs": [],
   "execution_count": 196
  },
  {
   "cell_type": "code",
   "id": "830f6570-7a11-456e-b2df-f394fd56e4ba",
   "metadata": {
    "ExecuteTime": {
     "end_time": "2024-12-23T08:37:04.095648Z",
     "start_time": "2024-12-23T08:37:04.082157Z"
    }
   },
   "source": [
    "# Use Kaggle dataset\n",
    "stock_data = pd.read_csv(\"./GOOG.csv\")"
   ],
   "outputs": [],
   "execution_count": 227
  },
  {
   "metadata": {
    "ExecuteTime": {
     "end_time": "2024-12-23T08:37:04.806759Z",
     "start_time": "2024-12-23T08:37:04.802416Z"
    }
   },
   "cell_type": "code",
   "source": [
    "# Initialize dataframe\n",
    "df = pd.DataFrame(stock_data)\n",
    "# Drop first row to ensure minimal confusion when period setting\n",
    "df = df.iloc[1:]\n",
    "df[\"Adj Close\"] = df[\"Adj Close\"].astype(float)\n",
    "df[\"Volume\"] = df[\"Volume\"].astype(float)\n",
    "df[\"Open\"] = df[\"Open\"].astype(float)\n",
    "df[\"High\"] = df[\"High\"].astype(float)\n",
    "df[\"Low\"] = df[\"Low\"].astype(float)\n",
    "df[\"Close\"] = df[\"Close\"].astype(float)"
   ],
   "id": "2d1655e0-0f1a-4fc4-b62b-add4418a75cb",
   "outputs": [],
   "execution_count": 228
  },
  {
   "cell_type": "code",
   "id": "96038d2d-5114-42bf-a197-8864baffe914",
   "metadata": {
    "ExecuteTime": {
     "end_time": "2024-12-23T08:37:08.128527Z",
     "start_time": "2024-12-23T08:37:08.117425Z"
    }
   },
   "source": [
    "df = df.dropna()\n",
    "df = df.drop_duplicates()"
   ],
   "outputs": [
    {
     "data": {
      "text/plain": [
       "        Price   Adj Close       Close        High         Low        Open  \\\n",
       "1  2024-01-02  139.218109  139.559998  140.615005  137.740005  139.600006   \n",
       "2  2024-01-03  140.016144  140.360001  141.089996  138.429993  138.600006   \n",
       "3  2024-01-04  137.701828  138.039993  140.634995  138.009995  139.850006   \n",
       "4  2024-01-05  137.053421  137.389999  138.809998  136.850006  138.352005   \n",
       "5  2024-01-08  140.185715  140.529999  140.639999  137.880005  138.000000   \n",
       "\n",
       "       Volume  \n",
       "1  20071900.0  \n",
       "2  18974300.0  \n",
       "3  18253300.0  \n",
       "4  15433200.0  \n",
       "5  17645300.0  "
      ],
      "text/html": [
       "<div>\n",
       "<style scoped>\n",
       "    .dataframe tbody tr th:only-of-type {\n",
       "        vertical-align: middle;\n",
       "    }\n",
       "\n",
       "    .dataframe tbody tr th {\n",
       "        vertical-align: top;\n",
       "    }\n",
       "\n",
       "    .dataframe thead th {\n",
       "        text-align: right;\n",
       "    }\n",
       "</style>\n",
       "<table border=\"1\" class=\"dataframe\">\n",
       "  <thead>\n",
       "    <tr style=\"text-align: right;\">\n",
       "      <th></th>\n",
       "      <th>Price</th>\n",
       "      <th>Adj Close</th>\n",
       "      <th>Close</th>\n",
       "      <th>High</th>\n",
       "      <th>Low</th>\n",
       "      <th>Open</th>\n",
       "      <th>Volume</th>\n",
       "    </tr>\n",
       "  </thead>\n",
       "  <tbody>\n",
       "    <tr>\n",
       "      <th>1</th>\n",
       "      <td>2024-01-02</td>\n",
       "      <td>139.218109</td>\n",
       "      <td>139.559998</td>\n",
       "      <td>140.615005</td>\n",
       "      <td>137.740005</td>\n",
       "      <td>139.600006</td>\n",
       "      <td>20071900.0</td>\n",
       "    </tr>\n",
       "    <tr>\n",
       "      <th>2</th>\n",
       "      <td>2024-01-03</td>\n",
       "      <td>140.016144</td>\n",
       "      <td>140.360001</td>\n",
       "      <td>141.089996</td>\n",
       "      <td>138.429993</td>\n",
       "      <td>138.600006</td>\n",
       "      <td>18974300.0</td>\n",
       "    </tr>\n",
       "    <tr>\n",
       "      <th>3</th>\n",
       "      <td>2024-01-04</td>\n",
       "      <td>137.701828</td>\n",
       "      <td>138.039993</td>\n",
       "      <td>140.634995</td>\n",
       "      <td>138.009995</td>\n",
       "      <td>139.850006</td>\n",
       "      <td>18253300.0</td>\n",
       "    </tr>\n",
       "    <tr>\n",
       "      <th>4</th>\n",
       "      <td>2024-01-05</td>\n",
       "      <td>137.053421</td>\n",
       "      <td>137.389999</td>\n",
       "      <td>138.809998</td>\n",
       "      <td>136.850006</td>\n",
       "      <td>138.352005</td>\n",
       "      <td>15433200.0</td>\n",
       "    </tr>\n",
       "    <tr>\n",
       "      <th>5</th>\n",
       "      <td>2024-01-08</td>\n",
       "      <td>140.185715</td>\n",
       "      <td>140.529999</td>\n",
       "      <td>140.639999</td>\n",
       "      <td>137.880005</td>\n",
       "      <td>138.000000</td>\n",
       "      <td>17645300.0</td>\n",
       "    </tr>\n",
       "  </tbody>\n",
       "</table>\n",
       "</div>"
      ]
     },
     "execution_count": 229,
     "metadata": {},
     "output_type": "execute_result"
    }
   ],
   "execution_count": 229
  },
  {
   "metadata": {
    "ExecuteTime": {
     "end_time": "2024-12-23T08:37:39.625891Z",
     "start_time": "2024-12-23T08:37:39.623681Z"
    }
   },
   "cell_type": "code",
   "source": [
    "# Initialize trading period\n",
    "trading_period = len(df)"
   ],
   "id": "151a2ebef8831230",
   "outputs": [
    {
     "name": "stdout",
     "output_type": "stream",
     "text": [
      "233\n"
     ]
    }
   ],
   "execution_count": 239
  },
  {
   "metadata": {
    "ExecuteTime": {
     "end_time": "2024-12-23T08:38:36.962347Z",
     "start_time": "2024-12-23T08:38:36.950569Z"
    }
   },
   "cell_type": "code",
   "source": [
    "# Calculate stock moving averages\n",
    "df['Daily Returns'] = ((df['Adj Close']- df['Open']) / df['Open'])\n",
    "df['Daily Returns %'] = df[\"Daily Returns\"] * 100\n",
    "print(df.head())"
   ],
   "id": "d88930b4-c071-40ba-9f0a-dec7fb89932f",
   "outputs": [
    {
     "name": "stdout",
     "output_type": "stream",
     "text": [
      "        Price   Adj Close       Close        High         Low        Open  \\\n",
      "1  2024-01-02  139.218109  139.559998  140.615005  137.740005  139.600006   \n",
      "2  2024-01-03  140.016144  140.360001  141.089996  138.429993  138.600006   \n",
      "3  2024-01-04  137.701828  138.039993  140.634995  138.009995  139.850006   \n",
      "4  2024-01-05  137.053421  137.389999  138.809998  136.850006  138.352005   \n",
      "5  2024-01-08  140.185715  140.529999  140.639999  137.880005  138.000000   \n",
      "\n",
      "       Volume  Daily Returns  Daily Returns %  \n",
      "1  20071900.0      -0.002736        -0.273565  \n",
      "2  18974300.0       0.010217         1.021744  \n",
      "3  18253300.0      -0.015361        -1.536059  \n",
      "4  15433200.0      -0.009386        -0.938609  \n",
      "5  17645300.0       0.015839         1.583851  \n"
     ]
    }
   ],
   "execution_count": 240
  },
  {
   "metadata": {
    "ExecuteTime": {
     "end_time": "2024-12-23T08:39:59.187363Z",
     "start_time": "2024-12-23T08:39:59.184147Z"
    }
   },
   "cell_type": "code",
   "source": [
    "# Calculate Annual Return (2024-01-02) - (2024-12-03)\n",
    "annual_return = 100 * (df[\"Adj Close\"].iloc[-1] - df[\"Adj Close\"].iloc[0]) / df[\"Adj Close\"].iloc[0]\n",
    "print(annual_return)"
   ],
   "id": "ebf91b2ca0d23f4d",
   "outputs": [
    {
     "name": "stdout",
     "output_type": "stream",
     "text": [
      "24.279811981808454\n"
     ]
    }
   ],
   "execution_count": 243
  },
  {
   "metadata": {
    "ExecuteTime": {
     "end_time": "2024-12-23T08:40:00.879982Z",
     "start_time": "2024-12-23T08:40:00.874139Z"
    }
   },
   "cell_type": "code",
   "source": [
    "# Calculate volatility, where volatility = std_dev * sqrt(trading period)\n",
    "annual_volatility = df[\"Daily Returns\"].std() * math.sqrt(trading_period)\n"
   ],
   "id": "838eb753e67d97d3",
   "outputs": [],
   "execution_count": 244
  },
  {
   "metadata": {
    "ExecuteTime": {
     "end_time": "2024-12-23T08:40:11.430134Z",
     "start_time": "2024-12-23T08:40:11.424213Z"
    }
   },
   "cell_type": "code",
   "source": [
    "peak_index = df[\"High\"].idxmax()\n",
    "peak = pd.to_numeric(df[\"High\"][peak_index])\n",
    "trough = pd.to_numeric(df[\"Low\"][peak_index:].min())\n",
    "max_drawdown = (peak - trough) / peak\n",
    "print(max_drawdown)\n"
   ],
   "id": "b7d44b59ebfab6ed",
   "outputs": [
    {
     "name": "stdout",
     "output_type": "stream",
     "text": [
      "0.23335575593641178\n"
     ]
    }
   ],
   "execution_count": 245
  },
  {
   "metadata": {
    "ExecuteTime": {
     "end_time": "2024-12-23T08:10:49.351863Z",
     "start_time": "2024-12-23T08:10:49.346120Z"
    }
   },
   "cell_type": "code",
   "source": [
    "# Group data quarterly\n",
    "\n",
    "# Q1\n",
    "q1_last_index = df[df[\"Price\"] == \"2024-04-01\"].index\n",
    "q2_last_index = df[df[\"Price\"] == \"2024-07-01\"].index\n",
    "q3_last_index = df[df[\"Price\"] == \"2024-10-01\"].index\n",
    "# Cutoff data since we have not reached the end of the year\n",
    "q4_last_index = df[df[\"Price\"] == \"2024-12-03\"].index"
   ],
   "id": "dfd7946dbb7a071d",
   "outputs": [],
   "execution_count": 206
  },
  {
   "metadata": {
    "ExecuteTime": {
     "end_time": "2024-12-23T08:48:50.679855Z",
     "start_time": "2024-12-23T08:48:50.669956Z"
    }
   },
   "cell_type": "code",
   "source": [
    "# Calculate cut-off dates\n",
    "# Subtract by one to represent final day of that period\n",
    "jan_end = df[df[\"Price\"] == \"2024-02-01\"].index[0] - 1\n",
    "feb_end = df[df[\"Price\"] == \"2024-03-01\"].index[0] - 1\n",
    "mar_end = df[df[\"Price\"] == \"2024-04-01\"].index[0] - 1"
   ],
   "id": "9cd8ddecbcab2347",
   "outputs": [],
   "execution_count": 247
  },
  {
   "metadata": {
    "ExecuteTime": {
     "end_time": "2024-12-23T08:48:51.817655Z",
     "start_time": "2024-12-23T08:48:51.813029Z"
    }
   },
   "cell_type": "code",
   "source": [
    "# Calculate Q1 returns\n",
    "jan_open = df[\"Open\"].iloc[0]\n",
    "feb_open = df[\"Open\"].iloc[jan_end + 1]\n",
    "mar_open = df[\"Open\"].iloc[feb_end + 1]\n",
    "jan_returns = ((df[\"Adj Close\"].iloc[jan_end]- df[\"Open\"].iloc[0]) / df[\"Open\"].iloc[0]) * 100\n",
    "feb_returns = ((df[\"Adj Close\"].iloc[feb_end] - df[\"Open\"].iloc[jan_end+1]) / df[\"Open\"].iloc[jan_end+1]) * 100\n",
    "mar_returns = ((df[\"Adj Close\"].iloc[mar_end] - df[\"Open\"].iloc[feb_end+1]) / df[\"Open\"].iloc[feb_end+1]) * 100\n",
    "\n",
    "q1_monthly_returns = {\n",
    "    \"Jan\": jan_returns,\n",
    "    \"Feb\": feb_returns,\n",
    "    \"Mar\": mar_returns,\n",
    "}"
   ],
   "id": "871a4f982828fc22",
   "outputs": [],
   "execution_count": 248
  },
  {
   "metadata": {
    "ExecuteTime": {
     "end_time": "2024-12-23T08:52:31.589466Z",
     "start_time": "2024-12-23T08:52:31.583468Z"
    }
   },
   "cell_type": "code",
   "source": [
    "jan_period = jan_end\n",
    "feb_period = feb_end - jan_end\n",
    "mar_period = mar_end - feb_end\n",
    "jan_vol = df[\"Daily Returns\"].iloc[1:jan_end].std() * math.sqrt(jan_end-1)\n",
    "feb_vol = df[\"Daily Returns\"].iloc[jan_end:feb_end].std() * math.sqrt(feb_period)\n",
    "mar_vol = df[\"Daily Returns\"].iloc[feb_end:mar_end].std() * math.sqrt(mar_period)\n",
    "\n",
    "q1_monthly_volatility = {\n",
    "    \"Jan\": jan_vol,\n",
    "    \"Feb\": feb_vol,\n",
    "    \"Mar\": mar_vol\n",
    "}"
   ],
   "id": "1633d529452b36dd",
   "outputs": [],
   "execution_count": 251
  },
  {
   "metadata": {},
   "cell_type": "code",
   "outputs": [],
   "execution_count": null,
   "source": [
    "# Quarterly Volumes\n",
    "jan_volume_traded = df[\"Volume\"].iloc[:jan_end+1].sum()\n",
    "feb_volume_traded = df[\"Volume\"].iloc[jan_end+1:feb_end+1].sum()\n",
    "mar_volume_traded = df[\"Volume\"].iloc[feb_end+1:mar_end+1].sum()\n"
   ],
   "id": "72007a13bd84ce60"
  },
  {
   "metadata": {},
   "cell_type": "code",
   "outputs": [],
   "execution_count": null,
   "source": "# Create visuals",
   "id": "8f2062588fc68439"
  }
 ],
 "metadata": {
  "kernelspec": {
   "display_name": "Python 3 (ipykernel)",
   "language": "python",
   "name": "python3"
  },
  "language_info": {
   "codemirror_mode": {
    "name": "ipython",
    "version": 3
   },
   "file_extension": ".py",
   "mimetype": "text/x-python",
   "name": "python",
   "nbconvert_exporter": "python",
   "pygments_lexer": "ipython3",
   "version": "3.13.1"
  }
 },
 "nbformat": 4,
 "nbformat_minor": 5
}
